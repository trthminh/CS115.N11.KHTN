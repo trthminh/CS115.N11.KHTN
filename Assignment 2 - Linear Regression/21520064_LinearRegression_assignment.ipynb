{
  "nbformat": 4,
  "nbformat_minor": 0,
  "metadata": {
    "colab": {
      "provenance": []
    },
    "kernelspec": {
      "name": "python3",
      "display_name": "Python 3"
    },
    "language_info": {
      "name": "python"
    }
  },
  "cells": [
    {
      "cell_type": "markdown",
      "source": [
        "Full Name: Trương Thanh Minh\n",
        "\n",
        "Student ID: 21520064"
      ],
      "metadata": {
        "id": "9NFhFNqfk9j6"
      }
    },
    {
      "cell_type": "markdown",
      "source": [
        "**Experiment Requirements (for all datasets)**\n",
        "- Train - test splitting ratio = 7:3.\n",
        "- Random_state = 'Your Student ID'.\n",
        "- Experiment with **Gradient Descent** (*max_iter = 200*, *learning_rate (eta)* is set by yourself) and **Normal Equation**.\n",
        "- Visualize the cost trend (only for Gradient Descent)\n",
        "- Evaluation Metric: **R2 score**.\n",
        "- After completing all requirements, click on ‘Runtime’ and choose ‘Restart and run all’.\n",
        "- If the code is run without any errors (and the results are the same as before re-running), download the .ipybn file and submit. \n",
        "Otherwise, check the code carefully.\n"
      ],
      "metadata": {
        "id": "1Gb0yc6EnPok"
      }
    },
    {
      "cell_type": "markdown",
      "source": [
        "# Import libraries"
      ],
      "metadata": {
        "id": "rmGi1VkZv_7i"
      }
    },
    {
      "cell_type": "code",
      "source": [
        "import numpy as np\n",
        "import pandas as pd\n",
        "import matplotlib.pyplot as plt\n",
        "from sklearn.model_selection import train_test_split\n",
        "import seaborn as sbn\n",
        "from sklearn.preprocessing import StandardScaler\n",
        "from sklearn.linear_model import LinearRegression\n",
        "from sklearn.metrics import r2_score\n",
        "from sklearn.preprocessing import LabelEncoder\n",
        "from sklearn.linear_model import LinearRegression"
      ],
      "metadata": {
        "id": "TX8B_CY5wG5b"
      },
      "execution_count": 1,
      "outputs": []
    },
    {
      "cell_type": "markdown",
      "source": [
        "# Fish Dataset"
      ],
      "metadata": {
        "id": "g9CgxY0ph1iF"
      }
    },
    {
      "cell_type": "markdown",
      "source": [
        "🐟🐟 **Dataset Information (fish.csv)** 🐟🐟\n",
        "- Weight: Weight of fish in gram\n",
        "- Length1: Vertical length in cm\n",
        "- Length2: Diagonal length in cm\n",
        "- Length3: Cross length in cm\n",
        "- Height: Height in cm\n",
        "- Width: Diagonal width in cm"
      ],
      "metadata": {
        "id": "wME5TQSziZPP"
      }
    },
    {
      "cell_type": "markdown",
      "source": [
        "📚📚 **Problem Requirement** 📚📚\n",
        "\n",
        "Use all remaining attributes to estimate the **weight** of fish.\n"
      ],
      "metadata": {
        "id": "pj2frDFyistE"
      }
    },
    {
      "cell_type": "markdown",
      "source": [
        "**Note**: Try to make the Gradient Descent achieving the comparable performance to the Normal Equation model. ✌✌\n",
        "\n",
        "**Hint**💡: Apply (suitable) techniques in Data Preprocessing tutorial file."
      ],
      "metadata": {
        "id": "-7KQpJK5kMHQ"
      }
    },
    {
      "cell_type": "code",
      "execution_count": 2,
      "metadata": {
        "id": "tIHZOpLPhgOK",
        "colab": {
          "base_uri": "https://localhost:8080/"
        },
        "outputId": "273a995c-7d6a-4a58-ae33-ba23d85c0026"
      },
      "outputs": [
        {
          "output_type": "stream",
          "name": "stdout",
          "text": [
            "/usr/local/lib/python3.7/dist-packages/gdown/cli.py:131: FutureWarning: Option `--id` was deprecated in version 4.3.1 and will be removed in 5.0. You don't need to pass it anymore to use a file ID.\n",
            "  category=FutureWarning,\n",
            "Downloading...\n",
            "From: https://drive.google.com/uc?id=1xvnkIndO_tmyXrP0_T7syikcxV_MEI4p\n",
            "To: /content/fish.csv\n",
            "100% 5.48k/5.48k [00:00<00:00, 5.12MB/s]\n"
          ]
        }
      ],
      "source": [
        "# Tải data từ drive\n",
        "!gdown --id 1xvnkIndO_tmyXrP0_T7syikcxV_MEI4p"
      ]
    },
    {
      "cell_type": "code",
      "source": [
        "# Đọc data\n",
        "fish_data = pd.read_csv('/content/fish.csv')"
      ],
      "metadata": {
        "id": "mQEXN0l1xNyP"
      },
      "execution_count": 3,
      "outputs": []
    },
    {
      "cell_type": "code",
      "source": [
        "fish_data.head(10)"
      ],
      "metadata": {
        "colab": {
          "base_uri": "https://localhost:8080/",
          "height": 363
        },
        "id": "RmCv9YkGxQNm",
        "outputId": "4da29f6c-f1ff-4377-c2d1-286fd1cb67e9"
      },
      "execution_count": 4,
      "outputs": [
        {
          "output_type": "execute_result",
          "data": {
            "text/plain": [
              "   Weight  Length1  Length2  Length3   Height   Width\n",
              "0   242.0     23.2     25.4     30.0  11.5200  4.0200\n",
              "1   290.0     24.0     26.3     31.2  12.4800  4.3056\n",
              "2   340.0     23.9     26.5     31.1  12.3778  4.6961\n",
              "3   363.0     26.3     29.0     33.5  12.7300  4.4555\n",
              "4   430.0     26.5     29.0     34.0  12.4440  5.1340\n",
              "5   450.0     26.8     29.7     34.7  13.6024  4.9274\n",
              "6   500.0     26.8     29.7     34.5  14.1795  5.2785\n",
              "7   390.0     27.6     30.0     35.0  12.6700  4.6900\n",
              "8   450.0     27.6     30.0     35.1  14.0049  4.8438\n",
              "9   500.0     28.5     30.7     36.2  14.2266  4.9594"
            ],
            "text/html": [
              "\n",
              "  <div id=\"df-02e1167c-362d-48ba-b4be-b99d5940283d\">\n",
              "    <div class=\"colab-df-container\">\n",
              "      <div>\n",
              "<style scoped>\n",
              "    .dataframe tbody tr th:only-of-type {\n",
              "        vertical-align: middle;\n",
              "    }\n",
              "\n",
              "    .dataframe tbody tr th {\n",
              "        vertical-align: top;\n",
              "    }\n",
              "\n",
              "    .dataframe thead th {\n",
              "        text-align: right;\n",
              "    }\n",
              "</style>\n",
              "<table border=\"1\" class=\"dataframe\">\n",
              "  <thead>\n",
              "    <tr style=\"text-align: right;\">\n",
              "      <th></th>\n",
              "      <th>Weight</th>\n",
              "      <th>Length1</th>\n",
              "      <th>Length2</th>\n",
              "      <th>Length3</th>\n",
              "      <th>Height</th>\n",
              "      <th>Width</th>\n",
              "    </tr>\n",
              "  </thead>\n",
              "  <tbody>\n",
              "    <tr>\n",
              "      <th>0</th>\n",
              "      <td>242.0</td>\n",
              "      <td>23.2</td>\n",
              "      <td>25.4</td>\n",
              "      <td>30.0</td>\n",
              "      <td>11.5200</td>\n",
              "      <td>4.0200</td>\n",
              "    </tr>\n",
              "    <tr>\n",
              "      <th>1</th>\n",
              "      <td>290.0</td>\n",
              "      <td>24.0</td>\n",
              "      <td>26.3</td>\n",
              "      <td>31.2</td>\n",
              "      <td>12.4800</td>\n",
              "      <td>4.3056</td>\n",
              "    </tr>\n",
              "    <tr>\n",
              "      <th>2</th>\n",
              "      <td>340.0</td>\n",
              "      <td>23.9</td>\n",
              "      <td>26.5</td>\n",
              "      <td>31.1</td>\n",
              "      <td>12.3778</td>\n",
              "      <td>4.6961</td>\n",
              "    </tr>\n",
              "    <tr>\n",
              "      <th>3</th>\n",
              "      <td>363.0</td>\n",
              "      <td>26.3</td>\n",
              "      <td>29.0</td>\n",
              "      <td>33.5</td>\n",
              "      <td>12.7300</td>\n",
              "      <td>4.4555</td>\n",
              "    </tr>\n",
              "    <tr>\n",
              "      <th>4</th>\n",
              "      <td>430.0</td>\n",
              "      <td>26.5</td>\n",
              "      <td>29.0</td>\n",
              "      <td>34.0</td>\n",
              "      <td>12.4440</td>\n",
              "      <td>5.1340</td>\n",
              "    </tr>\n",
              "    <tr>\n",
              "      <th>5</th>\n",
              "      <td>450.0</td>\n",
              "      <td>26.8</td>\n",
              "      <td>29.7</td>\n",
              "      <td>34.7</td>\n",
              "      <td>13.6024</td>\n",
              "      <td>4.9274</td>\n",
              "    </tr>\n",
              "    <tr>\n",
              "      <th>6</th>\n",
              "      <td>500.0</td>\n",
              "      <td>26.8</td>\n",
              "      <td>29.7</td>\n",
              "      <td>34.5</td>\n",
              "      <td>14.1795</td>\n",
              "      <td>5.2785</td>\n",
              "    </tr>\n",
              "    <tr>\n",
              "      <th>7</th>\n",
              "      <td>390.0</td>\n",
              "      <td>27.6</td>\n",
              "      <td>30.0</td>\n",
              "      <td>35.0</td>\n",
              "      <td>12.6700</td>\n",
              "      <td>4.6900</td>\n",
              "    </tr>\n",
              "    <tr>\n",
              "      <th>8</th>\n",
              "      <td>450.0</td>\n",
              "      <td>27.6</td>\n",
              "      <td>30.0</td>\n",
              "      <td>35.1</td>\n",
              "      <td>14.0049</td>\n",
              "      <td>4.8438</td>\n",
              "    </tr>\n",
              "    <tr>\n",
              "      <th>9</th>\n",
              "      <td>500.0</td>\n",
              "      <td>28.5</td>\n",
              "      <td>30.7</td>\n",
              "      <td>36.2</td>\n",
              "      <td>14.2266</td>\n",
              "      <td>4.9594</td>\n",
              "    </tr>\n",
              "  </tbody>\n",
              "</table>\n",
              "</div>\n",
              "      <button class=\"colab-df-convert\" onclick=\"convertToInteractive('df-02e1167c-362d-48ba-b4be-b99d5940283d')\"\n",
              "              title=\"Convert this dataframe to an interactive table.\"\n",
              "              style=\"display:none;\">\n",
              "        \n",
              "  <svg xmlns=\"http://www.w3.org/2000/svg\" height=\"24px\"viewBox=\"0 0 24 24\"\n",
              "       width=\"24px\">\n",
              "    <path d=\"M0 0h24v24H0V0z\" fill=\"none\"/>\n",
              "    <path d=\"M18.56 5.44l.94 2.06.94-2.06 2.06-.94-2.06-.94-.94-2.06-.94 2.06-2.06.94zm-11 1L8.5 8.5l.94-2.06 2.06-.94-2.06-.94L8.5 2.5l-.94 2.06-2.06.94zm10 10l.94 2.06.94-2.06 2.06-.94-2.06-.94-.94-2.06-.94 2.06-2.06.94z\"/><path d=\"M17.41 7.96l-1.37-1.37c-.4-.4-.92-.59-1.43-.59-.52 0-1.04.2-1.43.59L10.3 9.45l-7.72 7.72c-.78.78-.78 2.05 0 2.83L4 21.41c.39.39.9.59 1.41.59.51 0 1.02-.2 1.41-.59l7.78-7.78 2.81-2.81c.8-.78.8-2.07 0-2.86zM5.41 20L4 18.59l7.72-7.72 1.47 1.35L5.41 20z\"/>\n",
              "  </svg>\n",
              "      </button>\n",
              "      \n",
              "  <style>\n",
              "    .colab-df-container {\n",
              "      display:flex;\n",
              "      flex-wrap:wrap;\n",
              "      gap: 12px;\n",
              "    }\n",
              "\n",
              "    .colab-df-convert {\n",
              "      background-color: #E8F0FE;\n",
              "      border: none;\n",
              "      border-radius: 50%;\n",
              "      cursor: pointer;\n",
              "      display: none;\n",
              "      fill: #1967D2;\n",
              "      height: 32px;\n",
              "      padding: 0 0 0 0;\n",
              "      width: 32px;\n",
              "    }\n",
              "\n",
              "    .colab-df-convert:hover {\n",
              "      background-color: #E2EBFA;\n",
              "      box-shadow: 0px 1px 2px rgba(60, 64, 67, 0.3), 0px 1px 3px 1px rgba(60, 64, 67, 0.15);\n",
              "      fill: #174EA6;\n",
              "    }\n",
              "\n",
              "    [theme=dark] .colab-df-convert {\n",
              "      background-color: #3B4455;\n",
              "      fill: #D2E3FC;\n",
              "    }\n",
              "\n",
              "    [theme=dark] .colab-df-convert:hover {\n",
              "      background-color: #434B5C;\n",
              "      box-shadow: 0px 1px 3px 1px rgba(0, 0, 0, 0.15);\n",
              "      filter: drop-shadow(0px 1px 2px rgba(0, 0, 0, 0.3));\n",
              "      fill: #FFFFFF;\n",
              "    }\n",
              "  </style>\n",
              "\n",
              "      <script>\n",
              "        const buttonEl =\n",
              "          document.querySelector('#df-02e1167c-362d-48ba-b4be-b99d5940283d button.colab-df-convert');\n",
              "        buttonEl.style.display =\n",
              "          google.colab.kernel.accessAllowed ? 'block' : 'none';\n",
              "\n",
              "        async function convertToInteractive(key) {\n",
              "          const element = document.querySelector('#df-02e1167c-362d-48ba-b4be-b99d5940283d');\n",
              "          const dataTable =\n",
              "            await google.colab.kernel.invokeFunction('convertToInteractive',\n",
              "                                                     [key], {});\n",
              "          if (!dataTable) return;\n",
              "\n",
              "          const docLinkHtml = 'Like what you see? Visit the ' +\n",
              "            '<a target=\"_blank\" href=https://colab.research.google.com/notebooks/data_table.ipynb>data table notebook</a>'\n",
              "            + ' to learn more about interactive tables.';\n",
              "          element.innerHTML = '';\n",
              "          dataTable['output_type'] = 'display_data';\n",
              "          await google.colab.output.renderOutput(dataTable, element);\n",
              "          const docLink = document.createElement('div');\n",
              "          docLink.innerHTML = docLinkHtml;\n",
              "          element.appendChild(docLink);\n",
              "        }\n",
              "      </script>\n",
              "    </div>\n",
              "  </div>\n",
              "  "
            ]
          },
          "metadata": {},
          "execution_count": 4
        }
      ]
    },
    {
      "cell_type": "code",
      "source": [
        "fish_data.columns.values"
      ],
      "metadata": {
        "colab": {
          "base_uri": "https://localhost:8080/"
        },
        "id": "VzNF4NaZZ3Qh",
        "outputId": "ff26cabc-6576-4378-b7d4-0a76f5ce0532"
      },
      "execution_count": 5,
      "outputs": [
        {
          "output_type": "execute_result",
          "data": {
            "text/plain": [
              "array(['Weight', 'Length1', 'Length2', 'Length3', 'Height', 'Width'],\n",
              "      dtype=object)"
            ]
          },
          "metadata": {},
          "execution_count": 5
        }
      ]
    },
    {
      "cell_type": "code",
      "source": [
        "fish_data.isna().sum()"
      ],
      "metadata": {
        "colab": {
          "base_uri": "https://localhost:8080/"
        },
        "id": "X1WNtDqb1i1V",
        "outputId": "b5db6928-864b-458e-b6a4-bb249d183ea6"
      },
      "execution_count": 6,
      "outputs": [
        {
          "output_type": "execute_result",
          "data": {
            "text/plain": [
              "Weight     0\n",
              "Length1    0\n",
              "Length2    0\n",
              "Length3    0\n",
              "Height     0\n",
              "Width      0\n",
              "dtype: int64"
            ]
          },
          "metadata": {},
          "execution_count": 6
        }
      ]
    },
    {
      "cell_type": "markdown",
      "source": [
        "## Preprocessing"
      ],
      "metadata": {
        "id": "pEvYZE1OFE3p"
      }
    },
    {
      "cell_type": "code",
      "source": [
        "features_fish = fish_data.drop(columns = ['Weight'])\n",
        "features_fish = features_fish.columns.values"
      ],
      "metadata": {
        "id": "-TsjDV5kCsI9"
      },
      "execution_count": 7,
      "outputs": []
    },
    {
      "cell_type": "code",
      "source": [
        "X_fish = fish_data[features_fish]\n",
        "y_fish = fish_data['Weight']"
      ],
      "metadata": {
        "id": "rVo1wFr72HJQ"
      },
      "execution_count": 8,
      "outputs": []
    },
    {
      "cell_type": "code",
      "source": [
        "X_fish[:10]"
      ],
      "metadata": {
        "colab": {
          "base_uri": "https://localhost:8080/",
          "height": 363
        },
        "id": "4BSld9Y8KHx3",
        "outputId": "77570e92-b136-4439-aa13-3cb3b40da7b3"
      },
      "execution_count": 9,
      "outputs": [
        {
          "output_type": "execute_result",
          "data": {
            "text/plain": [
              "   Length1  Length2  Length3   Height   Width\n",
              "0     23.2     25.4     30.0  11.5200  4.0200\n",
              "1     24.0     26.3     31.2  12.4800  4.3056\n",
              "2     23.9     26.5     31.1  12.3778  4.6961\n",
              "3     26.3     29.0     33.5  12.7300  4.4555\n",
              "4     26.5     29.0     34.0  12.4440  5.1340\n",
              "5     26.8     29.7     34.7  13.6024  4.9274\n",
              "6     26.8     29.7     34.5  14.1795  5.2785\n",
              "7     27.6     30.0     35.0  12.6700  4.6900\n",
              "8     27.6     30.0     35.1  14.0049  4.8438\n",
              "9     28.5     30.7     36.2  14.2266  4.9594"
            ],
            "text/html": [
              "\n",
              "  <div id=\"df-172967e0-b428-4fef-9378-6a8f218508cb\">\n",
              "    <div class=\"colab-df-container\">\n",
              "      <div>\n",
              "<style scoped>\n",
              "    .dataframe tbody tr th:only-of-type {\n",
              "        vertical-align: middle;\n",
              "    }\n",
              "\n",
              "    .dataframe tbody tr th {\n",
              "        vertical-align: top;\n",
              "    }\n",
              "\n",
              "    .dataframe thead th {\n",
              "        text-align: right;\n",
              "    }\n",
              "</style>\n",
              "<table border=\"1\" class=\"dataframe\">\n",
              "  <thead>\n",
              "    <tr style=\"text-align: right;\">\n",
              "      <th></th>\n",
              "      <th>Length1</th>\n",
              "      <th>Length2</th>\n",
              "      <th>Length3</th>\n",
              "      <th>Height</th>\n",
              "      <th>Width</th>\n",
              "    </tr>\n",
              "  </thead>\n",
              "  <tbody>\n",
              "    <tr>\n",
              "      <th>0</th>\n",
              "      <td>23.2</td>\n",
              "      <td>25.4</td>\n",
              "      <td>30.0</td>\n",
              "      <td>11.5200</td>\n",
              "      <td>4.0200</td>\n",
              "    </tr>\n",
              "    <tr>\n",
              "      <th>1</th>\n",
              "      <td>24.0</td>\n",
              "      <td>26.3</td>\n",
              "      <td>31.2</td>\n",
              "      <td>12.4800</td>\n",
              "      <td>4.3056</td>\n",
              "    </tr>\n",
              "    <tr>\n",
              "      <th>2</th>\n",
              "      <td>23.9</td>\n",
              "      <td>26.5</td>\n",
              "      <td>31.1</td>\n",
              "      <td>12.3778</td>\n",
              "      <td>4.6961</td>\n",
              "    </tr>\n",
              "    <tr>\n",
              "      <th>3</th>\n",
              "      <td>26.3</td>\n",
              "      <td>29.0</td>\n",
              "      <td>33.5</td>\n",
              "      <td>12.7300</td>\n",
              "      <td>4.4555</td>\n",
              "    </tr>\n",
              "    <tr>\n",
              "      <th>4</th>\n",
              "      <td>26.5</td>\n",
              "      <td>29.0</td>\n",
              "      <td>34.0</td>\n",
              "      <td>12.4440</td>\n",
              "      <td>5.1340</td>\n",
              "    </tr>\n",
              "    <tr>\n",
              "      <th>5</th>\n",
              "      <td>26.8</td>\n",
              "      <td>29.7</td>\n",
              "      <td>34.7</td>\n",
              "      <td>13.6024</td>\n",
              "      <td>4.9274</td>\n",
              "    </tr>\n",
              "    <tr>\n",
              "      <th>6</th>\n",
              "      <td>26.8</td>\n",
              "      <td>29.7</td>\n",
              "      <td>34.5</td>\n",
              "      <td>14.1795</td>\n",
              "      <td>5.2785</td>\n",
              "    </tr>\n",
              "    <tr>\n",
              "      <th>7</th>\n",
              "      <td>27.6</td>\n",
              "      <td>30.0</td>\n",
              "      <td>35.0</td>\n",
              "      <td>12.6700</td>\n",
              "      <td>4.6900</td>\n",
              "    </tr>\n",
              "    <tr>\n",
              "      <th>8</th>\n",
              "      <td>27.6</td>\n",
              "      <td>30.0</td>\n",
              "      <td>35.1</td>\n",
              "      <td>14.0049</td>\n",
              "      <td>4.8438</td>\n",
              "    </tr>\n",
              "    <tr>\n",
              "      <th>9</th>\n",
              "      <td>28.5</td>\n",
              "      <td>30.7</td>\n",
              "      <td>36.2</td>\n",
              "      <td>14.2266</td>\n",
              "      <td>4.9594</td>\n",
              "    </tr>\n",
              "  </tbody>\n",
              "</table>\n",
              "</div>\n",
              "      <button class=\"colab-df-convert\" onclick=\"convertToInteractive('df-172967e0-b428-4fef-9378-6a8f218508cb')\"\n",
              "              title=\"Convert this dataframe to an interactive table.\"\n",
              "              style=\"display:none;\">\n",
              "        \n",
              "  <svg xmlns=\"http://www.w3.org/2000/svg\" height=\"24px\"viewBox=\"0 0 24 24\"\n",
              "       width=\"24px\">\n",
              "    <path d=\"M0 0h24v24H0V0z\" fill=\"none\"/>\n",
              "    <path d=\"M18.56 5.44l.94 2.06.94-2.06 2.06-.94-2.06-.94-.94-2.06-.94 2.06-2.06.94zm-11 1L8.5 8.5l.94-2.06 2.06-.94-2.06-.94L8.5 2.5l-.94 2.06-2.06.94zm10 10l.94 2.06.94-2.06 2.06-.94-2.06-.94-.94-2.06-.94 2.06-2.06.94z\"/><path d=\"M17.41 7.96l-1.37-1.37c-.4-.4-.92-.59-1.43-.59-.52 0-1.04.2-1.43.59L10.3 9.45l-7.72 7.72c-.78.78-.78 2.05 0 2.83L4 21.41c.39.39.9.59 1.41.59.51 0 1.02-.2 1.41-.59l7.78-7.78 2.81-2.81c.8-.78.8-2.07 0-2.86zM5.41 20L4 18.59l7.72-7.72 1.47 1.35L5.41 20z\"/>\n",
              "  </svg>\n",
              "      </button>\n",
              "      \n",
              "  <style>\n",
              "    .colab-df-container {\n",
              "      display:flex;\n",
              "      flex-wrap:wrap;\n",
              "      gap: 12px;\n",
              "    }\n",
              "\n",
              "    .colab-df-convert {\n",
              "      background-color: #E8F0FE;\n",
              "      border: none;\n",
              "      border-radius: 50%;\n",
              "      cursor: pointer;\n",
              "      display: none;\n",
              "      fill: #1967D2;\n",
              "      height: 32px;\n",
              "      padding: 0 0 0 0;\n",
              "      width: 32px;\n",
              "    }\n",
              "\n",
              "    .colab-df-convert:hover {\n",
              "      background-color: #E2EBFA;\n",
              "      box-shadow: 0px 1px 2px rgba(60, 64, 67, 0.3), 0px 1px 3px 1px rgba(60, 64, 67, 0.15);\n",
              "      fill: #174EA6;\n",
              "    }\n",
              "\n",
              "    [theme=dark] .colab-df-convert {\n",
              "      background-color: #3B4455;\n",
              "      fill: #D2E3FC;\n",
              "    }\n",
              "\n",
              "    [theme=dark] .colab-df-convert:hover {\n",
              "      background-color: #434B5C;\n",
              "      box-shadow: 0px 1px 3px 1px rgba(0, 0, 0, 0.15);\n",
              "      filter: drop-shadow(0px 1px 2px rgba(0, 0, 0, 0.3));\n",
              "      fill: #FFFFFF;\n",
              "    }\n",
              "  </style>\n",
              "\n",
              "      <script>\n",
              "        const buttonEl =\n",
              "          document.querySelector('#df-172967e0-b428-4fef-9378-6a8f218508cb button.colab-df-convert');\n",
              "        buttonEl.style.display =\n",
              "          google.colab.kernel.accessAllowed ? 'block' : 'none';\n",
              "\n",
              "        async function convertToInteractive(key) {\n",
              "          const element = document.querySelector('#df-172967e0-b428-4fef-9378-6a8f218508cb');\n",
              "          const dataTable =\n",
              "            await google.colab.kernel.invokeFunction('convertToInteractive',\n",
              "                                                     [key], {});\n",
              "          if (!dataTable) return;\n",
              "\n",
              "          const docLinkHtml = 'Like what you see? Visit the ' +\n",
              "            '<a target=\"_blank\" href=https://colab.research.google.com/notebooks/data_table.ipynb>data table notebook</a>'\n",
              "            + ' to learn more about interactive tables.';\n",
              "          element.innerHTML = '';\n",
              "          dataTable['output_type'] = 'display_data';\n",
              "          await google.colab.output.renderOutput(dataTable, element);\n",
              "          const docLink = document.createElement('div');\n",
              "          docLink.innerHTML = docLinkHtml;\n",
              "          element.appendChild(docLink);\n",
              "        }\n",
              "      </script>\n",
              "    </div>\n",
              "  </div>\n",
              "  "
            ]
          },
          "metadata": {},
          "execution_count": 9
        }
      ]
    },
    {
      "cell_type": "code",
      "source": [
        "y_fish[:10]"
      ],
      "metadata": {
        "colab": {
          "base_uri": "https://localhost:8080/"
        },
        "id": "x3GjgVHsKJwv",
        "outputId": "69e5ff03-9ede-44a9-f62f-6168a02f5a87"
      },
      "execution_count": 10,
      "outputs": [
        {
          "output_type": "execute_result",
          "data": {
            "text/plain": [
              "0    242.0\n",
              "1    290.0\n",
              "2    340.0\n",
              "3    363.0\n",
              "4    430.0\n",
              "5    450.0\n",
              "6    500.0\n",
              "7    390.0\n",
              "8    450.0\n",
              "9    500.0\n",
              "Name: Weight, dtype: float64"
            ]
          },
          "metadata": {},
          "execution_count": 10
        }
      ]
    },
    {
      "cell_type": "code",
      "source": [
        "print(X_fish.shape, y_fish.shape)"
      ],
      "metadata": {
        "colab": {
          "base_uri": "https://localhost:8080/"
        },
        "id": "nXWCreXLaeJu",
        "outputId": "b0421675-d16a-4b14-b017-836cb05a18f9"
      },
      "execution_count": 11,
      "outputs": [
        {
          "output_type": "stream",
          "name": "stdout",
          "text": [
            "(159, 5) (159,)\n"
          ]
        }
      ]
    },
    {
      "cell_type": "code",
      "source": [
        "# Chia tập dữ liệu theo tập train, test\n",
        "X_train_fish, X_test_fish, y_train_fish, y_test_fish = train_test_split(X_fish, y_fish, test_size=0.3, random_state=21520064)"
      ],
      "metadata": {
        "id": "AdpxCJPSyybk"
      },
      "execution_count": 12,
      "outputs": []
    },
    {
      "cell_type": "markdown",
      "source": [
        "## Preprocessing"
      ],
      "metadata": {
        "id": "U-IJ10eOLP14"
      }
    },
    {
      "cell_type": "code",
      "source": [
        "Xscaler = StandardScaler()\n",
        "X_train_fish = Xscaler.fit_transform(X_train_fish)\n",
        "X_test_fish = Xscaler.transform(X_test_fish)"
      ],
      "metadata": {
        "id": "LljYx-GmB8zD"
      },
      "execution_count": 13,
      "outputs": []
    },
    {
      "cell_type": "code",
      "source": [
        "Yscaler = StandardScaler()\n",
        "y_train_fish = Yscaler.fit_transform(y_train_fish.values.reshape(-1, 1)).reshape(-1)\n",
        "y_test_fish = Yscaler.transform(y_test_fish.values.reshape(-1, 1)).reshape(-1)"
      ],
      "metadata": {
        "id": "3QHaolIDIHB-"
      },
      "execution_count": 14,
      "outputs": []
    },
    {
      "cell_type": "code",
      "source": [
        "X_train_fish[:10]"
      ],
      "metadata": {
        "colab": {
          "base_uri": "https://localhost:8080/"
        },
        "id": "tyJSWFVbDeor",
        "outputId": "80984557-9c4f-4dea-ac9c-1a97d5abf893"
      },
      "execution_count": 15,
      "outputs": [
        {
          "output_type": "execute_result",
          "data": {
            "text/plain": [
              "array([[ 0.45621021,  0.49876435,  0.66171807,  1.56206504,  0.47448225],\n",
              "       [-0.85819871, -0.85966293, -0.8379755 , -0.84341238, -0.81566469],\n",
              "       [-0.4826533 , -0.47154085, -0.40949162, -0.37771704, -0.41088147],\n",
              "       [-0.18617009, -0.1943108 , -0.11812258, -0.12673013,  0.16412394],\n",
              "       [-1.29304076, -1.30323103, -1.3692955 , -1.27870567, -1.27069347],\n",
              "       [ 1.30612875,  1.28424951,  1.1844684 , -0.31662154,  0.38226324],\n",
              "       [-1.52034455, -1.56197908, -1.59210712, -1.69967211, -1.90697396],\n",
              "       [-1.58952397, -1.6451481 , -1.66066454, -1.7269174 , -1.97339616],\n",
              "       [ 0.48585853,  0.54496936,  0.73884517,  1.54892805,  0.99562685],\n",
              "       [-0.05769403, -0.00949076,  0.13039807,  0.88391958, -0.03079211]])"
            ]
          },
          "metadata": {},
          "execution_count": 15
        }
      ]
    },
    {
      "cell_type": "code",
      "source": [
        "y_train_fish[:10]"
      ],
      "metadata": {
        "colab": {
          "base_uri": "https://localhost:8080/"
        },
        "id": "MJYRR_3EDfLl",
        "outputId": "1c0d1f8a-59a6-4e2f-a8fc-edbe1e2497aa"
      },
      "execution_count": 16,
      "outputs": [
        {
          "output_type": "execute_result",
          "data": {
            "text/plain": [
              "array([ 0.5513103 , -0.88957478, -0.66790015, -0.38945519, -1.01663219,\n",
              "        0.33504237, -1.09178529, -1.10124701,  0.71351125, -0.14345042])"
            ]
          },
          "metadata": {},
          "execution_count": 16
        }
      ]
    },
    {
      "cell_type": "code",
      "source": [
        "X_train_fish = np.array(X_train_fish)\n",
        "X_test_fish = np.array(X_test_fish)\n",
        "y_train_fish = np.array(y_train_fish)\n",
        "y_test_fish = np.array(y_test_fish)"
      ],
      "metadata": {
        "id": "qlHg2uMCCjmN"
      },
      "execution_count": 17,
      "outputs": []
    },
    {
      "cell_type": "code",
      "source": [
        "print(\"Shape of X_train_fish: \", X_train_fish.shape)\n",
        "print(\"Shape of y_train_fish: \", y_train_fish.shape)\n",
        "print(\"Shape of X_test_fish: \", X_test_fish.shape)\n",
        "print(\"Shape of y_test_fish: \", y_test_fish.shape)"
      ],
      "metadata": {
        "colab": {
          "base_uri": "https://localhost:8080/"
        },
        "id": "ANd8TQOO3ima",
        "outputId": "a2c147de-91e2-43a9-dffd-0b607ff9dd64"
      },
      "execution_count": 18,
      "outputs": [
        {
          "output_type": "stream",
          "name": "stdout",
          "text": [
            "Shape of X_train_fish:  (111, 5)\n",
            "Shape of y_train_fish:  (111,)\n",
            "Shape of X_test_fish:  (48, 5)\n",
            "Shape of y_test_fish:  (48,)\n"
          ]
        }
      ]
    },
    {
      "cell_type": "markdown",
      "source": [
        "## Visualize data"
      ],
      "metadata": {
        "id": "cNhSakoZxYJ3"
      }
    },
    {
      "cell_type": "code",
      "source": [
        "plt.figure(figsize=(25, 7))\n",
        "\n",
        "for i in range(5):\n",
        "  plt.subplot(1, 5, i + 1)\n",
        "  plt.scatter(fish_data[features_fish[i]], y_fish, c='g')\n",
        "  plt.xlabel(features_fish[i])\n",
        "  plt.ylabel(\"Weight\")\n",
        "\n",
        "plt.show()"
      ],
      "metadata": {
        "colab": {
          "base_uri": "https://localhost:8080/",
          "height": 377
        },
        "id": "HffeNzRTvtPm",
        "outputId": "b5da6d68-46be-4071-daba-f7272506c032"
      },
      "execution_count": 19,
      "outputs": [
        {
          "output_type": "display_data",
          "data": {
            "text/plain": [
              "<Figure size 1800x504 with 5 Axes>"
            ],
            "image/png": "[encoded data removed]"
          },
          "metadata": {
            "needs_background": "light"
          }
        }
      ]
    },
    {
      "cell_type": "markdown",
      "source": [
        "## Gradient Descent"
      ],
      "metadata": {
        "id": "NWL32qe0xf5h"
      }
    },
    {
      "cell_type": "code",
      "source": [
        "class LinearRegression_GD:\n",
        "  def __init__(self, eta=4e-4, max_iter=200, random_state=21520064):\n",
        "    self.eta = eta\n",
        "    self.max_iter = max_iter\n",
        "    self.random_state = random_state\n",
        "    self.W = None\n",
        "    self.b = 0\n",
        "    self.costs = []\n",
        "\n",
        "  def predict(self, X):\n",
        "    return np.dot(X, self.W) + self.b\n",
        "  \n",
        "  def fit(self, X, y):\n",
        "    self.W = np.zeros(X.shape[1])\n",
        "    self.b = 0\n",
        "    self.cost = []\n",
        "    for _ in range(self.max_iter):\n",
        "      y_pred = self.predict(X)\n",
        "      diff = y - y_pred\n",
        "      dW = np.dot(X.T, diff)\n",
        "      db = np.sum(diff)\n",
        "      self.W += self.eta * dW\n",
        "      self.b += self.eta * db\n",
        "      cost = np.sum(diff ** 2) / 2\n",
        "      self.cost.append(cost)\n",
        "    return self.cost\n",
        "\n",
        "  def MSE_score(self, X, y):\n",
        "    y_pred = self.predict(X)\n",
        "    return np.sum((y - y_pred) ** 2) / y.shape\n",
        "  \n",
        "  def R2_score(self, X, y):\n",
        "    y_pred = self.predict(X)\n",
        "    y_mean = np.mean(y)\n",
        "    return (1 - (np.sum((y - y_pred)**2) / np.sum((y - y_mean)**2)))\n",
        "\n",
        "\n",
        "  def visualize_cost(self, X, y):\n",
        "    cost = self.fit(X, y)\n",
        "    plt.plot(range(1, len(cost) + 1), cost)\n",
        "    plt.xlabel('Iterations')\n",
        "    plt.ylabel('Cost')\n",
        "    plt.title('Gradient Descent')\n",
        "    plt.show()"
      ],
      "metadata": {
        "id": "5IEXN91YLXTX"
      },
      "execution_count": 20,
      "outputs": []
    },
    {
      "cell_type": "code",
      "source": [
        "linear_fish = LinearRegression_GD()\n",
        "cost = linear_fish.fit(X_train_fish, y_train_fish)\n",
        "linear_fish.visualize_cost(X_train_fish, y_train_fish)\n",
        "print(cost)"
      ],
      "metadata": {
        "colab": {
          "base_uri": "https://localhost:8080/",
          "height": 332
        },
        "id": "dkdHg_Fa3yC6",
        "outputId": "62d26326-f370-4b4d-cf37-df86305f1b16"
      },
      "execution_count": 21,
      "outputs": [
        {
          "output_type": "display_data",
          "data": {
            "text/plain": [
              "<Figure size 432x288 with 1 Axes>"
            ],
            "image/png": "[encoded data removed]"
          },
          "metadata": {
            "needs_background": "light"
          }
        },
        {
          "output_type": "stream",
          "name": "stdout",
          "text": [
            "[55.500000000000014, 38.70879040197024, 27.695581636860727, 20.471607547050723, 15.732650501987635, 12.623413438365986, 10.582997288629025, 9.243566547670854, 8.36389511217586, 7.785786269491429, 7.405493335345595, 7.15497757396446, 6.989617314253608, 6.880147699000695, 6.807374843081999, 6.758709422877092, 6.725893431573005, 6.703509401537858, 6.688002761392051, 6.677040702170133, 6.669091723176671, 6.66314989771318, 6.658554044938795, 6.654869140480827, 6.651808542826417, 6.649182986507052, 6.646867128873822, 6.644777608524428, 6.64285865312721, 6.641072638224978, 6.639393892993578, 6.637804635464178, 6.636292304362232, 6.634847806962097, 6.633464367777382, 6.6321367713887565, 6.63086086385272, 6.6296332237890585, 6.62845094484048, 6.627311491262588, 6.626212601560784, 6.625152223720118, 6.624128471233512, 6.623139592845226, 6.622183951360732, 6.621260008470626, 6.620366313583442, 6.619501495349038, 6.618664255004986, 6.617853360973961, 6.617067644334213, 6.6163059949126675, 6.615567357833783, 6.61485073041239, 6.614155159314886, 6.613479737937027, 6.612823603962304, 6.6121859370753535, 6.611565956811764, 6.610962920530288, 6.610376121496636, 6.609804887070156, 6.6092485769861575, 6.608706581727761, 6.608178320981824, 6.60766324217416, 6.607160819079617, 6.606670550503016, 6.606191959027132, 6.605724589824288, 6.605268009528185, 6.604821805162946, 6.604385583126355, 6.6039589682246005, 6.60354160275584, 6.603133145640126, 6.602733271593329, 6.602341670342821, 6.601958045882803, 6.6015821157672425, 6.6012136104385455, 6.6008522725901235, 6.60049785656113, 6.600150127761776, 6.599808862127608, 6.599473845601346, 6.599144873640833, 6.5988217507517914, 6.5985042900441435, 6.598192312810662, 6.597885648126861, 6.597584132471019, 6.597287609363326, 6.596995929023191, 6.596708948043772, 6.596426529082871, 6.596148540569363, 6.595874856424353, 6.595605355796354, 6.595339922809739, 6.595078446325781, 6.594820819715728, 6.594566940645184, 6.59431671086933, 6.5940700360383575, 6.59382682551265, 6.593586992187196, 6.593350452324757, 6.593117125397389, 6.592886933935826, 6.592659803386397, 6.592435661975069, 6.592214440578228, 6.591996072599902, 6.591780493855075, 6.591567642458793, 6.591357458720759, 6.591149885045152, 6.590944865835405, 6.5907423474036815, 6.590542277884813, 6.590344607154504, 6.590149286751538, 6.589956269803821, 6.5897655109580455, 6.589576966312834, 6.589390593355125, 6.589206350899672, 6.589024199031525, 6.588844099051285, 6.588666013423046, 6.588489905724832, 6.588315740601497, 6.5881434837198425, 6.587973101725947, 6.587804562204523, 6.58763783364027, 6.587472885381036, 6.5873096876027715, 6.587148211276169, 6.586988428134869, 6.586830310645183, 6.586673831977281, 6.586518965977698, 6.586365687143184, 6.586213970595751, 6.5860637920589085, 6.585915127835004, 6.585767954783624, 6.585622250301002, 6.585477992300371, 6.585335159193235, 6.585193729871494, 6.5850536836903855, 6.584915000452222, 6.584777660390849, 6.584641644156818, 6.584506932803221, 6.584373507772161, 6.5842413508818485, 6.584110444314238, 6.583980770603231, 6.5838523126234065, 6.583725053579224, 6.583598976994708, 6.583474066703594, 6.583350306839869, 6.583227681828749, 6.58310617637801, 6.58298577546971, 6.582866464352253, 6.582748228532785, 6.58263105376989, 6.582514926066615, 6.582399831663759, 6.582285757033442, 6.582172688872933, 6.582060614098729, 6.581949519840859, 6.5818393934374235, 6.581730222429338, 6.5816219945552925, 6.581514697746888, 6.581408320123963, 6.581302849990109, 6.581198275828343, 6.581094586296938, 6.580991770225408, 6.580889816610637, 6.580788714613166, 6.580688453553575, 6.580589022909021, 6.580490412309904, 6.5803926115366, 6.58029561051637, 6.5801993993203185, 6.580103968160478, 6.580009307387004, 6.579915407485418, 6.579822259073977]\n"
          ]
        }
      ]
    },
    {
      "cell_type": "code",
      "source": [
        "# r2 score trên tập train\n",
        "linear_fish.R2_score(X_train_fish, y_train_fish)"
      ],
      "metadata": {
        "colab": {
          "base_uri": "https://localhost:8080/"
        },
        "id": "U5Om2CvM4QCF",
        "outputId": "28cd1521-75b5-4f13-b4cd-052f1ebc375a"
      },
      "execution_count": 22,
      "outputs": [
        {
          "output_type": "execute_result",
          "data": {
            "text/plain": [
              "0.8814463089567366"
            ]
          },
          "metadata": {},
          "execution_count": 22
        }
      ]
    },
    {
      "cell_type": "code",
      "source": [
        "# r2 score trên tập test\n",
        "linear_fish.R2_score(X_test_fish, y_test_fish)"
      ],
      "metadata": {
        "colab": {
          "base_uri": "https://localhost:8080/"
        },
        "id": "N787bufTChZl",
        "outputId": "75d5b5dc-3a07-4385-e12f-7e1747037122"
      },
      "execution_count": 23,
      "outputs": [
        {
          "output_type": "execute_result",
          "data": {
            "text/plain": [
              "0.8680643260408483"
            ]
          },
          "metadata": {},
          "execution_count": 23
        }
      ]
    },
    {
      "cell_type": "markdown",
      "source": [
        "## Normal Equation"
      ],
      "metadata": {
        "id": "pOpTpklCyR4B"
      }
    },
    {
      "cell_type": "markdown",
      "source": [
        "$w = (X^TX)^{-1}X^Ty$"
      ],
      "metadata": {
        "id": "sYC5TzpY2vHP"
      }
    },
    {
      "cell_type": "markdown",
      "source": [
        "### From scatch"
      ],
      "metadata": {
        "id": "4vj-wE8138K6"
      }
    },
    {
      "cell_type": "code",
      "source": [
        "def pre_normal_equa(X):\n",
        "  return np.concatenate([np.ones((len(X), 1)), X], axis=1)\n",
        "\n",
        "def get_param_normal_equation(X, y):\n",
        "  X = pre_normal_equa(X)\n",
        "  return np.linalg.inv(X.T.dot(X)).dot(X.T).dot(y)\n",
        "\n",
        "weight_best = get_param_normal_equation(X_train_fish, y_train_fish)\n",
        "\n",
        "prediction = np.dot(pre_normal_equa(X_test_fish), weight_best)\n",
        "print(r2_score(y_test_fish, prediction))"
      ],
      "metadata": {
        "colab": {
          "base_uri": "https://localhost:8080/"
        },
        "id": "X9_18oo3m7-O",
        "outputId": "f2818b6c-0f27-4004-c910-d331555d165b"
      },
      "execution_count": 24,
      "outputs": [
        {
          "output_type": "stream",
          "name": "stdout",
          "text": [
            "0.8677521436000287\n"
          ]
        }
      ]
    },
    {
      "cell_type": "code",
      "source": [
        "X_test_fish[:, 0]"
      ],
      "metadata": {
        "colab": {
          "base_uri": "https://localhost:8080/"
        },
        "id": "1DvJI_5uXqI7",
        "outputId": "505dbb36-c994-45f9-b55c-a2bb8321c532"
      },
      "execution_count": 25,
      "outputs": [
        {
          "output_type": "execute_result",
          "data": {
            "text/plain": [
              "array([ 1.02941109, -0.146639  , -1.73776558, -0.92737813, -0.38382557,\n",
              "        0.50562408,  0.7625762 ,  0.98987999,  0.3079686 ,  0.92070058,\n",
              "        0.39691356, -0.99655754, -0.77913652, -0.2948806 ,  0.3474997 ,\n",
              "       -0.00828016,  1.31601153, -0.85819871,  0.15972699, -0.28499783,\n",
              "        0.75269342, -0.58148104, -0.8977298 , -0.36406002, -1.02620586,\n",
              "        0.9503489 , -0.57159827, -0.68030878,  0.40679634,  1.03929386,\n",
              "       -0.64077769, -1.29304076, -1.65870339,  1.49390146, -1.66858616,\n",
              "       -0.61112936,  0.17949254, -0.73960542, -1.32268908, -1.59940675,\n",
              "       -1.62905507,  2.11651621, -0.63089491, -1.46104791,  0.80210729,\n",
              "       -0.16640454, -0.3344117 , -0.18617009])"
            ]
          },
          "metadata": {},
          "execution_count": 25
        }
      ]
    },
    {
      "cell_type": "code",
      "source": [
        "prediction.shape"
      ],
      "metadata": {
        "colab": {
          "base_uri": "https://localhost:8080/"
        },
        "id": "mkMOKbEkW__G",
        "outputId": "c943abfd-0aa5-4475-b3df-b58da6c40b9c"
      },
      "execution_count": 26,
      "outputs": [
        {
          "output_type": "execute_result",
          "data": {
            "text/plain": [
              "(48,)"
            ]
          },
          "metadata": {},
          "execution_count": 26
        }
      ]
    },
    {
      "cell_type": "code",
      "source": [
        "y_test_fish.shape"
      ],
      "metadata": {
        "colab": {
          "base_uri": "https://localhost:8080/"
        },
        "id": "zk08p82uXGYh",
        "outputId": "a43118a1-b8ef-4e69-8976-b0831fdbf8ca"
      },
      "execution_count": 27,
      "outputs": [
        {
          "output_type": "execute_result",
          "data": {
            "text/plain": [
              "(48,)"
            ]
          },
          "metadata": {},
          "execution_count": 27
        }
      ]
    },
    {
      "cell_type": "markdown",
      "source": [
        "### From sklearn"
      ],
      "metadata": {
        "id": "z-_PrDIl3_NS"
      }
    },
    {
      "cell_type": "code",
      "source": [
        "LR_fish = LinearRegression()\n",
        "LR_fish.fit(X_train_fish, y_train_fish)\n",
        "y_pred = LR_fish.predict(X_test_fish)\n",
        "print(r2_score(y_test_fish, y_pred))"
      ],
      "metadata": {
        "colab": {
          "base_uri": "https://localhost:8080/"
        },
        "id": "bcA4tSzVeTOZ",
        "outputId": "d638f25c-cee9-4871-e522-4791033b597f"
      },
      "execution_count": 28,
      "outputs": [
        {
          "output_type": "stream",
          "name": "stdout",
          "text": [
            "0.8677521435999888\n"
          ]
        }
      ]
    },
    {
      "cell_type": "code",
      "source": [
        "r2_score(y_test_fish, linear_fish.predict(X_test_fish))"
      ],
      "metadata": {
        "colab": {
          "base_uri": "https://localhost:8080/"
        },
        "id": "_ytHu2oNX-Ze",
        "outputId": "573b7a7f-4484-4ff5-b94f-26c841f8a4ba"
      },
      "execution_count": 29,
      "outputs": [
        {
          "output_type": "execute_result",
          "data": {
            "text/plain": [
              "0.8680643260408483"
            ]
          },
          "metadata": {},
          "execution_count": 29
        }
      ]
    },
    {
      "cell_type": "code",
      "source": [
        "get_param_normal_equation(X_test_fish, y_test_fish)"
      ],
      "metadata": {
        "colab": {
          "base_uri": "https://localhost:8080/"
        },
        "id": "vOAxga4TWuay",
        "outputId": "a7713122-3f22-401f-ab62-927f16b02431"
      },
      "execution_count": 30,
      "outputs": [
        {
          "output_type": "execute_result",
          "data": {
            "text/plain": [
              "array([-0.02521322,  3.82240734, -2.55317155, -0.87742971,  0.42124401,\n",
              "        0.11592507])"
            ]
          },
          "metadata": {},
          "execution_count": 30
        }
      ]
    },
    {
      "cell_type": "code",
      "source": [
        "X_test_fish.shape"
      ],
      "metadata": {
        "colab": {
          "base_uri": "https://localhost:8080/"
        },
        "id": "W_QTU6M-WEfU",
        "outputId": "2969a0ee-e576-48af-c529-7a759884e194"
      },
      "execution_count": 31,
      "outputs": [
        {
          "output_type": "execute_result",
          "data": {
            "text/plain": [
              "(48, 5)"
            ]
          },
          "metadata": {},
          "execution_count": 31
        }
      ]
    },
    {
      "cell_type": "markdown",
      "source": [
        "# Insurance Dataset"
      ],
      "metadata": {
        "id": "lGWM0AT3h_z7"
      }
    },
    {
      "cell_type": "markdown",
      "source": [
        "💰💰 **Dataset Information (insurance.csv)** 💰💰\n",
        "- age: Age of primary beneficiary\n",
        "- sex: Insurance contractor gender, female / male\n",
        "- bmi: Body mass index, providing an understanding of body, weights that are relatively high or low relative to\n",
        "- children: Number of children covered by health insurance / Number of dependents\n",
        "- smoker: Smoker / Non-smoker\n",
        "- region: The beneficiary's residential area in the US, northeast, southeast, southwest, northwest\n",
        "- charges: Individual medical costs billed by health insurance"
      ],
      "metadata": {
        "id": "t3XRaiasnKeB"
      }
    },
    {
      "cell_type": "markdown",
      "source": [
        "📚📚 **Problem Requirement** 📚📚\n",
        "\n",
        "Use all remaining attributes to estimate the individual medical costs billed by health insurance ('**charges**')\n"
      ],
      "metadata": {
        "id": "2_B9zbFznKeD"
      }
    },
    {
      "cell_type": "markdown",
      "source": [
        "**Note**: Try to make the Gradient Descent achieving the comparable performance to the Normal Equation model. ✌✌\n",
        "\n",
        "**Hint**💡: Apply (suitable) techniques in the Data Preprocessing tutorial file."
      ],
      "metadata": {
        "id": "S-SAz8n4nKeE"
      }
    },
    {
      "cell_type": "code",
      "source": [
        "!gdown --id 1mqn7V65PGN5Eb8IgItZajup9uFnC39ZK"
      ],
      "metadata": {
        "id": "HwPfBssTp4vq",
        "colab": {
          "base_uri": "https://localhost:8080/"
        },
        "outputId": "74f6215a-aea2-429f-e8ac-a046085cde53"
      },
      "execution_count": 32,
      "outputs": [
        {
          "output_type": "stream",
          "name": "stdout",
          "text": [
            "/usr/local/lib/python3.7/dist-packages/gdown/cli.py:131: FutureWarning: Option `--id` was deprecated in version 4.3.1 and will be removed in 5.0. You don't need to pass it anymore to use a file ID.\n",
            "  category=FutureWarning,\n",
            "Downloading...\n",
            "From: https://drive.google.com/uc?id=1mqn7V65PGN5Eb8IgItZajup9uFnC39ZK\n",
            "To: /content/insurance.csv\n",
            "100% 55.6k/55.6k [00:00<00:00, 32.3MB/s]\n"
          ]
        }
      ]
    },
    {
      "cell_type": "code",
      "source": [
        "insurance_data = pd.read_csv('/content/insurance.csv')"
      ],
      "metadata": {
        "id": "yfE_z16oxhsC"
      },
      "execution_count": 33,
      "outputs": []
    },
    {
      "cell_type": "code",
      "source": [
        "insurance_data.head(10)"
      ],
      "metadata": {
        "colab": {
          "base_uri": "https://localhost:8080/",
          "height": 363
        },
        "id": "yYLXjCzFx-Fx",
        "outputId": "14ce7cbd-115c-4bb4-e734-078835d7abd8"
      },
      "execution_count": 34,
      "outputs": [
        {
          "output_type": "execute_result",
          "data": {
            "text/plain": [
              "   age     sex     bmi  children smoker     region      charges\n",
              "0   19  female  27.900         0    yes  southwest  16884.92400\n",
              "1   18    male  33.770         1     no  southeast   1725.55230\n",
              "2   28    male  33.000         3     no  southeast   4449.46200\n",
              "3   33    male  22.705         0     no  northwest  21984.47061\n",
              "4   32    male  28.880         0     no  northwest   3866.85520\n",
              "5   31  female  25.740         0     no  southeast   3756.62160\n",
              "6   46  female  33.440         1     no  southeast   8240.58960\n",
              "7   37  female  27.740         3     no  northwest   7281.50560\n",
              "8   37    male  29.830         2     no  northeast   6406.41070\n",
              "9   60  female  25.840         0     no  northwest  28923.13692"
            ],
            "text/html": [
              "\n",
              "  <div id=\"df-cb68264e-9056-4475-9ceb-567c76cd728a\">\n",
              "    <div class=\"colab-df-container\">\n",
              "      <div>\n",
              "<style scoped>\n",
              "    .dataframe tbody tr th:only-of-type {\n",
              "        vertical-align: middle;\n",
              "    }\n",
              "\n",
              "    .dataframe tbody tr th {\n",
              "        vertical-align: top;\n",
              "    }\n",
              "\n",
              "    .dataframe thead th {\n",
              "        text-align: right;\n",
              "    }\n",
              "</style>\n",
              "<table border=\"1\" class=\"dataframe\">\n",
              "  <thead>\n",
              "    <tr style=\"text-align: right;\">\n",
              "      <th></th>\n",
              "      <th>age</th>\n",
              "      <th>sex</th>\n",
              "      <th>bmi</th>\n",
              "      <th>children</th>\n",
              "      <th>smoker</th>\n",
              "      <th>region</th>\n",
              "      <th>charges</th>\n",
              "    </tr>\n",
              "  </thead>\n",
              "  <tbody>\n",
              "    <tr>\n",
              "      <th>0</th>\n",
              "      <td>19</td>\n",
              "      <td>female</td>\n",
              "      <td>27.900</td>\n",
              "      <td>0</td>\n",
              "      <td>yes</td>\n",
              "      <td>southwest</td>\n",
              "      <td>16884.92400</td>\n",
              "    </tr>\n",
              "    <tr>\n",
              "      <th>1</th>\n",
              "      <td>18</td>\n",
              "      <td>male</td>\n",
              "      <td>33.770</td>\n",
              "      <td>1</td>\n",
              "      <td>no</td>\n",
              "      <td>southeast</td>\n",
              "      <td>1725.55230</td>\n",
              "    </tr>\n",
              "    <tr>\n",
              "      <th>2</th>\n",
              "      <td>28</td>\n",
              "      <td>male</td>\n",
              "      <td>33.000</td>\n",
              "      <td>3</td>\n",
              "      <td>no</td>\n",
              "      <td>southeast</td>\n",
              "      <td>4449.46200</td>\n",
              "    </tr>\n",
              "    <tr>\n",
              "      <th>3</th>\n",
              "      <td>33</td>\n",
              "      <td>male</td>\n",
              "      <td>22.705</td>\n",
              "      <td>0</td>\n",
              "      <td>no</td>\n",
              "      <td>northwest</td>\n",
              "      <td>21984.47061</td>\n",
              "    </tr>\n",
              "    <tr>\n",
              "      <th>4</th>\n",
              "      <td>32</td>\n",
              "      <td>male</td>\n",
              "      <td>28.880</td>\n",
              "      <td>0</td>\n",
              "      <td>no</td>\n",
              "      <td>northwest</td>\n",
              "      <td>3866.85520</td>\n",
              "    </tr>\n",
              "    <tr>\n",
              "      <th>5</th>\n",
              "      <td>31</td>\n",
              "      <td>female</td>\n",
              "      <td>25.740</td>\n",
              "      <td>0</td>\n",
              "      <td>no</td>\n",
              "      <td>southeast</td>\n",
              "      <td>3756.62160</td>\n",
              "    </tr>\n",
              "    <tr>\n",
              "      <th>6</th>\n",
              "      <td>46</td>\n",
              "      <td>female</td>\n",
              "      <td>33.440</td>\n",
              "      <td>1</td>\n",
              "      <td>no</td>\n",
              "      <td>southeast</td>\n",
              "      <td>8240.58960</td>\n",
              "    </tr>\n",
              "    <tr>\n",
              "      <th>7</th>\n",
              "      <td>37</td>\n",
              "      <td>female</td>\n",
              "      <td>27.740</td>\n",
              "      <td>3</td>\n",
              "      <td>no</td>\n",
              "      <td>northwest</td>\n",
              "      <td>7281.50560</td>\n",
              "    </tr>\n",
              "    <tr>\n",
              "      <th>8</th>\n",
              "      <td>37</td>\n",
              "      <td>male</td>\n",
              "      <td>29.830</td>\n",
              "      <td>2</td>\n",
              "      <td>no</td>\n",
              "      <td>northeast</td>\n",
              "      <td>6406.41070</td>\n",
              "    </tr>\n",
              "    <tr>\n",
              "      <th>9</th>\n",
              "      <td>60</td>\n",
              "      <td>female</td>\n",
              "      <td>25.840</td>\n",
              "      <td>0</td>\n",
              "      <td>no</td>\n",
              "      <td>northwest</td>\n",
              "      <td>28923.13692</td>\n",
              "    </tr>\n",
              "  </tbody>\n",
              "</table>\n",
              "</div>\n",
              "      <button class=\"colab-df-convert\" onclick=\"convertToInteractive('df-cb68264e-9056-4475-9ceb-567c76cd728a')\"\n",
              "              title=\"Convert this dataframe to an interactive table.\"\n",
              "              style=\"display:none;\">\n",
              "        \n",
              "  <svg xmlns=\"http://www.w3.org/2000/svg\" height=\"24px\"viewBox=\"0 0 24 24\"\n",
              "       width=\"24px\">\n",
              "    <path d=\"M0 0h24v24H0V0z\" fill=\"none\"/>\n",
              "    <path d=\"M18.56 5.44l.94 2.06.94-2.06 2.06-.94-2.06-.94-.94-2.06-.94 2.06-2.06.94zm-11 1L8.5 8.5l.94-2.06 2.06-.94-2.06-.94L8.5 2.5l-.94 2.06-2.06.94zm10 10l.94 2.06.94-2.06 2.06-.94-2.06-.94-.94-2.06-.94 2.06-2.06.94z\"/><path d=\"M17.41 7.96l-1.37-1.37c-.4-.4-.92-.59-1.43-.59-.52 0-1.04.2-1.43.59L10.3 9.45l-7.72 7.72c-.78.78-.78 2.05 0 2.83L4 21.41c.39.39.9.59 1.41.59.51 0 1.02-.2 1.41-.59l7.78-7.78 2.81-2.81c.8-.78.8-2.07 0-2.86zM5.41 20L4 18.59l7.72-7.72 1.47 1.35L5.41 20z\"/>\n",
              "  </svg>\n",
              "      </button>\n",
              "      \n",
              "  <style>\n",
              "    .colab-df-container {\n",
              "      display:flex;\n",
              "      flex-wrap:wrap;\n",
              "      gap: 12px;\n",
              "    }\n",
              "\n",
              "    .colab-df-convert {\n",
              "      background-color: #E8F0FE;\n",
              "      border: none;\n",
              "      border-radius: 50%;\n",
              "      cursor: pointer;\n",
              "      display: none;\n",
              "      fill: #1967D2;\n",
              "      height: 32px;\n",
              "      padding: 0 0 0 0;\n",
              "      width: 32px;\n",
              "    }\n",
              "\n",
              "    .colab-df-convert:hover {\n",
              "      background-color: #E2EBFA;\n",
              "      box-shadow: 0px 1px 2px rgba(60, 64, 67, 0.3), 0px 1px 3px 1px rgba(60, 64, 67, 0.15);\n",
              "      fill: #174EA6;\n",
              "    }\n",
              "\n",
              "    [theme=dark] .colab-df-convert {\n",
              "      background-color: #3B4455;\n",
              "      fill: #D2E3FC;\n",
              "    }\n",
              "\n",
              "    [theme=dark] .colab-df-convert:hover {\n",
              "      background-color: #434B5C;\n",
              "      box-shadow: 0px 1px 3px 1px rgba(0, 0, 0, 0.15);\n",
              "      filter: drop-shadow(0px 1px 2px rgba(0, 0, 0, 0.3));\n",
              "      fill: #FFFFFF;\n",
              "    }\n",
              "  </style>\n",
              "\n",
              "      <script>\n",
              "        const buttonEl =\n",
              "          document.querySelector('#df-cb68264e-9056-4475-9ceb-567c76cd728a button.colab-df-convert');\n",
              "        buttonEl.style.display =\n",
              "          google.colab.kernel.accessAllowed ? 'block' : 'none';\n",
              "\n",
              "        async function convertToInteractive(key) {\n",
              "          const element = document.querySelector('#df-cb68264e-9056-4475-9ceb-567c76cd728a');\n",
              "          const dataTable =\n",
              "            await google.colab.kernel.invokeFunction('convertToInteractive',\n",
              "                                                     [key], {});\n",
              "          if (!dataTable) return;\n",
              "\n",
              "          const docLinkHtml = 'Like what you see? Visit the ' +\n",
              "            '<a target=\"_blank\" href=https://colab.research.google.com/notebooks/data_table.ipynb>data table notebook</a>'\n",
              "            + ' to learn more about interactive tables.';\n",
              "          element.innerHTML = '';\n",
              "          dataTable['output_type'] = 'display_data';\n",
              "          await google.colab.output.renderOutput(dataTable, element);\n",
              "          const docLink = document.createElement('div');\n",
              "          docLink.innerHTML = docLinkHtml;\n",
              "          element.appendChild(docLink);\n",
              "        }\n",
              "      </script>\n",
              "    </div>\n",
              "  </div>\n",
              "  "
            ]
          },
          "metadata": {},
          "execution_count": 34
        }
      ]
    },
    {
      "cell_type": "code",
      "source": [
        "insurance_data.isna().sum()"
      ],
      "metadata": {
        "colab": {
          "base_uri": "https://localhost:8080/"
        },
        "id": "N220S0Ur1kuD",
        "outputId": "eb6d3f3c-84f6-4f9d-9f59-f4bc509b6533"
      },
      "execution_count": 35,
      "outputs": [
        {
          "output_type": "execute_result",
          "data": {
            "text/plain": [
              "age         0\n",
              "sex         0\n",
              "bmi         0\n",
              "children    0\n",
              "smoker      0\n",
              "region      0\n",
              "charges     0\n",
              "dtype: int64"
            ]
          },
          "metadata": {},
          "execution_count": 35
        }
      ]
    },
    {
      "cell_type": "code",
      "source": [
        "# convert data\n",
        "le = LabelEncoder()\n",
        "label = le.fit_transform(insurance_data['smoker'])\n",
        "insurance_data.drop(\"smoker\", axis=1, inplace=True)\n",
        "insurance_data[\"smoker\"] = label\n",
        "\n",
        "label = le.fit_transform(insurance_data['sex'])\n",
        "insurance_data.drop(\"sex\", axis=1, inplace=True)\n",
        "insurance_data[\"sex\"] = label\n",
        "\n",
        "label = le.fit_transform(insurance_data['region'])\n",
        "insurance_data.drop(\"region\", axis=1, inplace=True)\n",
        "insurance_data[\"region\"] = label"
      ],
      "metadata": {
        "id": "2AcTLzZVh8Z6"
      },
      "execution_count": 36,
      "outputs": []
    },
    {
      "cell_type": "code",
      "source": [
        "insurance_data.head(10)"
      ],
      "metadata": {
        "colab": {
          "base_uri": "https://localhost:8080/",
          "height": 363
        },
        "id": "mSyCPqxm4VHK",
        "outputId": "e11ad661-bc0d-43f1-d11b-2ffbcb2250aa"
      },
      "execution_count": 37,
      "outputs": [
        {
          "output_type": "execute_result",
          "data": {
            "text/plain": [
              "   age     bmi  children      charges  smoker  sex  region\n",
              "0   19  27.900         0  16884.92400       1    0       3\n",
              "1   18  33.770         1   1725.55230       0    1       2\n",
              "2   28  33.000         3   4449.46200       0    1       2\n",
              "3   33  22.705         0  21984.47061       0    1       1\n",
              "4   32  28.880         0   3866.85520       0    1       1\n",
              "5   31  25.740         0   3756.62160       0    0       2\n",
              "6   46  33.440         1   8240.58960       0    0       2\n",
              "7   37  27.740         3   7281.50560       0    0       1\n",
              "8   37  29.830         2   6406.41070       0    1       0\n",
              "9   60  25.840         0  28923.13692       0    0       1"
            ],
            "text/html": [
              "\n",
              "  <div id=\"df-01a5b823-a440-4ae1-881b-511da9592c4b\">\n",
              "    <div class=\"colab-df-container\">\n",
              "      <div>\n",
              "<style scoped>\n",
              "    .dataframe tbody tr th:only-of-type {\n",
              "        vertical-align: middle;\n",
              "    }\n",
              "\n",
              "    .dataframe tbody tr th {\n",
              "        vertical-align: top;\n",
              "    }\n",
              "\n",
              "    .dataframe thead th {\n",
              "        text-align: right;\n",
              "    }\n",
              "</style>\n",
              "<table border=\"1\" class=\"dataframe\">\n",
              "  <thead>\n",
              "    <tr style=\"text-align: right;\">\n",
              "      <th></th>\n",
              "      <th>age</th>\n",
              "      <th>bmi</th>\n",
              "      <th>children</th>\n",
              "      <th>charges</th>\n",
              "      <th>smoker</th>\n",
              "      <th>sex</th>\n",
              "      <th>region</th>\n",
              "    </tr>\n",
              "  </thead>\n",
              "  <tbody>\n",
              "    <tr>\n",
              "      <th>0</th>\n",
              "      <td>19</td>\n",
              "      <td>27.900</td>\n",
              "      <td>0</td>\n",
              "      <td>16884.92400</td>\n",
              "      <td>1</td>\n",
              "      <td>0</td>\n",
              "      <td>3</td>\n",
              "    </tr>\n",
              "    <tr>\n",
              "      <th>1</th>\n",
              "      <td>18</td>\n",
              "      <td>33.770</td>\n",
              "      <td>1</td>\n",
              "      <td>1725.55230</td>\n",
              "      <td>0</td>\n",
              "      <td>1</td>\n",
              "      <td>2</td>\n",
              "    </tr>\n",
              "    <tr>\n",
              "      <th>2</th>\n",
              "      <td>28</td>\n",
              "      <td>33.000</td>\n",
              "      <td>3</td>\n",
              "      <td>4449.46200</td>\n",
              "      <td>0</td>\n",
              "      <td>1</td>\n",
              "      <td>2</td>\n",
              "    </tr>\n",
              "    <tr>\n",
              "      <th>3</th>\n",
              "      <td>33</td>\n",
              "      <td>22.705</td>\n",
              "      <td>0</td>\n",
              "      <td>21984.47061</td>\n",
              "      <td>0</td>\n",
              "      <td>1</td>\n",
              "      <td>1</td>\n",
              "    </tr>\n",
              "    <tr>\n",
              "      <th>4</th>\n",
              "      <td>32</td>\n",
              "      <td>28.880</td>\n",
              "      <td>0</td>\n",
              "      <td>3866.85520</td>\n",
              "      <td>0</td>\n",
              "      <td>1</td>\n",
              "      <td>1</td>\n",
              "    </tr>\n",
              "    <tr>\n",
              "      <th>5</th>\n",
              "      <td>31</td>\n",
              "      <td>25.740</td>\n",
              "      <td>0</td>\n",
              "      <td>3756.62160</td>\n",
              "      <td>0</td>\n",
              "      <td>0</td>\n",
              "      <td>2</td>\n",
              "    </tr>\n",
              "    <tr>\n",
              "      <th>6</th>\n",
              "      <td>46</td>\n",
              "      <td>33.440</td>\n",
              "      <td>1</td>\n",
              "      <td>8240.58960</td>\n",
              "      <td>0</td>\n",
              "      <td>0</td>\n",
              "      <td>2</td>\n",
              "    </tr>\n",
              "    <tr>\n",
              "      <th>7</th>\n",
              "      <td>37</td>\n",
              "      <td>27.740</td>\n",
              "      <td>3</td>\n",
              "      <td>7281.50560</td>\n",
              "      <td>0</td>\n",
              "      <td>0</td>\n",
              "      <td>1</td>\n",
              "    </tr>\n",
              "    <tr>\n",
              "      <th>8</th>\n",
              "      <td>37</td>\n",
              "      <td>29.830</td>\n",
              "      <td>2</td>\n",
              "      <td>6406.41070</td>\n",
              "      <td>0</td>\n",
              "      <td>1</td>\n",
              "      <td>0</td>\n",
              "    </tr>\n",
              "    <tr>\n",
              "      <th>9</th>\n",
              "      <td>60</td>\n",
              "      <td>25.840</td>\n",
              "      <td>0</td>\n",
              "      <td>28923.13692</td>\n",
              "      <td>0</td>\n",
              "      <td>0</td>\n",
              "      <td>1</td>\n",
              "    </tr>\n",
              "  </tbody>\n",
              "</table>\n",
              "</div>\n",
              "      <button class=\"colab-df-convert\" onclick=\"convertToInteractive('df-01a5b823-a440-4ae1-881b-511da9592c4b')\"\n",
              "              title=\"Convert this dataframe to an interactive table.\"\n",
              "              style=\"display:none;\">\n",
              "        \n",
              "  <svg xmlns=\"http://www.w3.org/2000/svg\" height=\"24px\"viewBox=\"0 0 24 24\"\n",
              "       width=\"24px\">\n",
              "    <path d=\"M0 0h24v24H0V0z\" fill=\"none\"/>\n",
              "    <path d=\"M18.56 5.44l.94 2.06.94-2.06 2.06-.94-2.06-.94-.94-2.06-.94 2.06-2.06.94zm-11 1L8.5 8.5l.94-2.06 2.06-.94-2.06-.94L8.5 2.5l-.94 2.06-2.06.94zm10 10l.94 2.06.94-2.06 2.06-.94-2.06-.94-.94-2.06-.94 2.06-2.06.94z\"/><path d=\"M17.41 7.96l-1.37-1.37c-.4-.4-.92-.59-1.43-.59-.52 0-1.04.2-1.43.59L10.3 9.45l-7.72 7.72c-.78.78-.78 2.05 0 2.83L4 21.41c.39.39.9.59 1.41.59.51 0 1.02-.2 1.41-.59l7.78-7.78 2.81-2.81c.8-.78.8-2.07 0-2.86zM5.41 20L4 18.59l7.72-7.72 1.47 1.35L5.41 20z\"/>\n",
              "  </svg>\n",
              "      </button>\n",
              "      \n",
              "  <style>\n",
              "    .colab-df-container {\n",
              "      display:flex;\n",
              "      flex-wrap:wrap;\n",
              "      gap: 12px;\n",
              "    }\n",
              "\n",
              "    .colab-df-convert {\n",
              "      background-color: #E8F0FE;\n",
              "      border: none;\n",
              "      border-radius: 50%;\n",
              "      cursor: pointer;\n",
              "      display: none;\n",
              "      fill: #1967D2;\n",
              "      height: 32px;\n",
              "      padding: 0 0 0 0;\n",
              "      width: 32px;\n",
              "    }\n",
              "\n",
              "    .colab-df-convert:hover {\n",
              "      background-color: #E2EBFA;\n",
              "      box-shadow: 0px 1px 2px rgba(60, 64, 67, 0.3), 0px 1px 3px 1px rgba(60, 64, 67, 0.15);\n",
              "      fill: #174EA6;\n",
              "    }\n",
              "\n",
              "    [theme=dark] .colab-df-convert {\n",
              "      background-color: #3B4455;\n",
              "      fill: #D2E3FC;\n",
              "    }\n",
              "\n",
              "    [theme=dark] .colab-df-convert:hover {\n",
              "      background-color: #434B5C;\n",
              "      box-shadow: 0px 1px 3px 1px rgba(0, 0, 0, 0.15);\n",
              "      filter: drop-shadow(0px 1px 2px rgba(0, 0, 0, 0.3));\n",
              "      fill: #FFFFFF;\n",
              "    }\n",
              "  </style>\n",
              "\n",
              "      <script>\n",
              "        const buttonEl =\n",
              "          document.querySelector('#df-01a5b823-a440-4ae1-881b-511da9592c4b button.colab-df-convert');\n",
              "        buttonEl.style.display =\n",
              "          google.colab.kernel.accessAllowed ? 'block' : 'none';\n",
              "\n",
              "        async function convertToInteractive(key) {\n",
              "          const element = document.querySelector('#df-01a5b823-a440-4ae1-881b-511da9592c4b');\n",
              "          const dataTable =\n",
              "            await google.colab.kernel.invokeFunction('convertToInteractive',\n",
              "                                                     [key], {});\n",
              "          if (!dataTable) return;\n",
              "\n",
              "          const docLinkHtml = 'Like what you see? Visit the ' +\n",
              "            '<a target=\"_blank\" href=https://colab.research.google.com/notebooks/data_table.ipynb>data table notebook</a>'\n",
              "            + ' to learn more about interactive tables.';\n",
              "          element.innerHTML = '';\n",
              "          dataTable['output_type'] = 'display_data';\n",
              "          await google.colab.output.renderOutput(dataTable, element);\n",
              "          const docLink = document.createElement('div');\n",
              "          docLink.innerHTML = docLinkHtml;\n",
              "          element.appendChild(docLink);\n",
              "        }\n",
              "      </script>\n",
              "    </div>\n",
              "  </div>\n",
              "  "
            ]
          },
          "metadata": {},
          "execution_count": 37
        }
      ]
    },
    {
      "cell_type": "code",
      "source": [
        "features_insurance = insurance_data.drop(columns = ['charges'])\n",
        "features_insurance = features_insurance.columns"
      ],
      "metadata": {
        "id": "BkcGGbhq0R9R"
      },
      "execution_count": 38,
      "outputs": []
    },
    {
      "cell_type": "code",
      "source": [
        "X_insurance = insurance_data.drop(columns = ['charges'])\n",
        "y_insurance = insurance_data['charges']"
      ],
      "metadata": {
        "id": "D-paZVLq_XC1"
      },
      "execution_count": 39,
      "outputs": []
    },
    {
      "cell_type": "code",
      "source": [
        "plt.figure(figsize=(24, 7))\n",
        "\n",
        "for i in range(6):\n",
        "  plt.subplot(1, 6, i + 1)\n",
        "  plt.scatter(insurance_data[features_insurance[i]], y_insurance)\n",
        "  plt.xlabel(features_insurance[i])\n",
        "  plt.ylabel(\"charges\")\n",
        "\n",
        "plt.show()"
      ],
      "metadata": {
        "colab": {
          "base_uri": "https://localhost:8080/",
          "height": 390
        },
        "id": "ay2QS_nNzTZg",
        "outputId": "ca965abf-1ebd-4a9e-9f9a-9e1de863c5f7"
      },
      "execution_count": 40,
      "outputs": [
        {
          "output_type": "display_data",
          "data": {
            "text/plain": [
              "<Figure size 1728x504 with 6 Axes>"
            ],
            "image/png": "[encoded data removed]"
          },
          "metadata": {
            "needs_background": "light"
          }
        }
      ]
    },
    {
      "cell_type": "code",
      "source": [
        "X_train_insurance, X_test_insurance, y_train_insurance, y_test_insurance = train_test_split(X_insurance, y_insurance, test_size=0.3, random_state=21520064)"
      ],
      "metadata": {
        "id": "ws32InQJ01Mj"
      },
      "execution_count": 41,
      "outputs": []
    },
    {
      "cell_type": "code",
      "source": [
        "X_train_insurance[:10]"
      ],
      "metadata": {
        "colab": {
          "base_uri": "https://localhost:8080/",
          "height": 363
        },
        "id": "ffyng04fKTRu",
        "outputId": "5296b213-02be-480b-8b6a-e6377c9274d1"
      },
      "execution_count": 42,
      "outputs": [
        {
          "output_type": "execute_result",
          "data": {
            "text/plain": [
              "      age     bmi  children  smoker  sex  region\n",
              "604    19  28.310         0       1    0       1\n",
              "385    19  34.400         0       0    1       3\n",
              "725    30  39.050         3       1    0       2\n",
              "171    49  30.300         0       0    1       3\n",
              "159    50  27.830         3       0    0       2\n",
              "310    50  26.600         0       0    1       3\n",
              "462    62  38.095         2       0    0       0\n",
              "1138   33  30.250         0       0    1       2\n",
              "269    49  25.840         1       0    1       0\n",
              "815    20  31.460         0       0    0       2"
            ],
            "text/html": [
              "\n",
              "  <div id=\"df-1f8ce6a1-877a-43d0-b122-0096d27bdd6a\">\n",
              "    <div class=\"colab-df-container\">\n",
              "      <div>\n",
              "<style scoped>\n",
              "    .dataframe tbody tr th:only-of-type {\n",
              "        vertical-align: middle;\n",
              "    }\n",
              "\n",
              "    .dataframe tbody tr th {\n",
              "        vertical-align: top;\n",
              "    }\n",
              "\n",
              "    .dataframe thead th {\n",
              "        text-align: right;\n",
              "    }\n",
              "</style>\n",
              "<table border=\"1\" class=\"dataframe\">\n",
              "  <thead>\n",
              "    <tr style=\"text-align: right;\">\n",
              "      <th></th>\n",
              "      <th>age</th>\n",
              "      <th>bmi</th>\n",
              "      <th>children</th>\n",
              "      <th>smoker</th>\n",
              "      <th>sex</th>\n",
              "      <th>region</th>\n",
              "    </tr>\n",
              "  </thead>\n",
              "  <tbody>\n",
              "    <tr>\n",
              "      <th>604</th>\n",
              "      <td>19</td>\n",
              "      <td>28.310</td>\n",
              "      <td>0</td>\n",
              "      <td>1</td>\n",
              "      <td>0</td>\n",
              "      <td>1</td>\n",
              "    </tr>\n",
              "    <tr>\n",
              "      <th>385</th>\n",
              "      <td>19</td>\n",
              "      <td>34.400</td>\n",
              "      <td>0</td>\n",
              "      <td>0</td>\n",
              "      <td>1</td>\n",
              "      <td>3</td>\n",
              "    </tr>\n",
              "    <tr>\n",
              "      <th>725</th>\n",
              "      <td>30</td>\n",
              "      <td>39.050</td>\n",
              "      <td>3</td>\n",
              "      <td>1</td>\n",
              "      <td>0</td>\n",
              "      <td>2</td>\n",
              "    </tr>\n",
              "    <tr>\n",
              "      <th>171</th>\n",
              "      <td>49</td>\n",
              "      <td>30.300</td>\n",
              "      <td>0</td>\n",
              "      <td>0</td>\n",
              "      <td>1</td>\n",
              "      <td>3</td>\n",
              "    </tr>\n",
              "    <tr>\n",
              "      <th>159</th>\n",
              "      <td>50</td>\n",
              "      <td>27.830</td>\n",
              "      <td>3</td>\n",
              "      <td>0</td>\n",
              "      <td>0</td>\n",
              "      <td>2</td>\n",
              "    </tr>\n",
              "    <tr>\n",
              "      <th>310</th>\n",
              "      <td>50</td>\n",
              "      <td>26.600</td>\n",
              "      <td>0</td>\n",
              "      <td>0</td>\n",
              "      <td>1</td>\n",
              "      <td>3</td>\n",
              "    </tr>\n",
              "    <tr>\n",
              "      <th>462</th>\n",
              "      <td>62</td>\n",
              "      <td>38.095</td>\n",
              "      <td>2</td>\n",
              "      <td>0</td>\n",
              "      <td>0</td>\n",
              "      <td>0</td>\n",
              "    </tr>\n",
              "    <tr>\n",
              "      <th>1138</th>\n",
              "      <td>33</td>\n",
              "      <td>30.250</td>\n",
              "      <td>0</td>\n",
              "      <td>0</td>\n",
              "      <td>1</td>\n",
              "      <td>2</td>\n",
              "    </tr>\n",
              "    <tr>\n",
              "      <th>269</th>\n",
              "      <td>49</td>\n",
              "      <td>25.840</td>\n",
              "      <td>1</td>\n",
              "      <td>0</td>\n",
              "      <td>1</td>\n",
              "      <td>0</td>\n",
              "    </tr>\n",
              "    <tr>\n",
              "      <th>815</th>\n",
              "      <td>20</td>\n",
              "      <td>31.460</td>\n",
              "      <td>0</td>\n",
              "      <td>0</td>\n",
              "      <td>0</td>\n",
              "      <td>2</td>\n",
              "    </tr>\n",
              "  </tbody>\n",
              "</table>\n",
              "</div>\n",
              "      <button class=\"colab-df-convert\" onclick=\"convertToInteractive('df-1f8ce6a1-877a-43d0-b122-0096d27bdd6a')\"\n",
              "              title=\"Convert this dataframe to an interactive table.\"\n",
              "              style=\"display:none;\">\n",
              "        \n",
              "  <svg xmlns=\"http://www.w3.org/2000/svg\" height=\"24px\"viewBox=\"0 0 24 24\"\n",
              "       width=\"24px\">\n",
              "    <path d=\"M0 0h24v24H0V0z\" fill=\"none\"/>\n",
              "    <path d=\"M18.56 5.44l.94 2.06.94-2.06 2.06-.94-2.06-.94-.94-2.06-.94 2.06-2.06.94zm-11 1L8.5 8.5l.94-2.06 2.06-.94-2.06-.94L8.5 2.5l-.94 2.06-2.06.94zm10 10l.94 2.06.94-2.06 2.06-.94-2.06-.94-.94-2.06-.94 2.06-2.06.94z\"/><path d=\"M17.41 7.96l-1.37-1.37c-.4-.4-.92-.59-1.43-.59-.52 0-1.04.2-1.43.59L10.3 9.45l-7.72 7.72c-.78.78-.78 2.05 0 2.83L4 21.41c.39.39.9.59 1.41.59.51 0 1.02-.2 1.41-.59l7.78-7.78 2.81-2.81c.8-.78.8-2.07 0-2.86zM5.41 20L4 18.59l7.72-7.72 1.47 1.35L5.41 20z\"/>\n",
              "  </svg>\n",
              "      </button>\n",
              "      \n",
              "  <style>\n",
              "    .colab-df-container {\n",
              "      display:flex;\n",
              "      flex-wrap:wrap;\n",
              "      gap: 12px;\n",
              "    }\n",
              "\n",
              "    .colab-df-convert {\n",
              "      background-color: #E8F0FE;\n",
              "      border: none;\n",
              "      border-radius: 50%;\n",
              "      cursor: pointer;\n",
              "      display: none;\n",
              "      fill: #1967D2;\n",
              "      height: 32px;\n",
              "      padding: 0 0 0 0;\n",
              "      width: 32px;\n",
              "    }\n",
              "\n",
              "    .colab-df-convert:hover {\n",
              "      background-color: #E2EBFA;\n",
              "      box-shadow: 0px 1px 2px rgba(60, 64, 67, 0.3), 0px 1px 3px 1px rgba(60, 64, 67, 0.15);\n",
              "      fill: #174EA6;\n",
              "    }\n",
              "\n",
              "    [theme=dark] .colab-df-convert {\n",
              "      background-color: #3B4455;\n",
              "      fill: #D2E3FC;\n",
              "    }\n",
              "\n",
              "    [theme=dark] .colab-df-convert:hover {\n",
              "      background-color: #434B5C;\n",
              "      box-shadow: 0px 1px 3px 1px rgba(0, 0, 0, 0.15);\n",
              "      filter: drop-shadow(0px 1px 2px rgba(0, 0, 0, 0.3));\n",
              "      fill: #FFFFFF;\n",
              "    }\n",
              "  </style>\n",
              "\n",
              "      <script>\n",
              "        const buttonEl =\n",
              "          document.querySelector('#df-1f8ce6a1-877a-43d0-b122-0096d27bdd6a button.colab-df-convert');\n",
              "        buttonEl.style.display =\n",
              "          google.colab.kernel.accessAllowed ? 'block' : 'none';\n",
              "\n",
              "        async function convertToInteractive(key) {\n",
              "          const element = document.querySelector('#df-1f8ce6a1-877a-43d0-b122-0096d27bdd6a');\n",
              "          const dataTable =\n",
              "            await google.colab.kernel.invokeFunction('convertToInteractive',\n",
              "                                                     [key], {});\n",
              "          if (!dataTable) return;\n",
              "\n",
              "          const docLinkHtml = 'Like what you see? Visit the ' +\n",
              "            '<a target=\"_blank\" href=https://colab.research.google.com/notebooks/data_table.ipynb>data table notebook</a>'\n",
              "            + ' to learn more about interactive tables.';\n",
              "          element.innerHTML = '';\n",
              "          dataTable['output_type'] = 'display_data';\n",
              "          await google.colab.output.renderOutput(dataTable, element);\n",
              "          const docLink = document.createElement('div');\n",
              "          docLink.innerHTML = docLinkHtml;\n",
              "          element.appendChild(docLink);\n",
              "        }\n",
              "      </script>\n",
              "    </div>\n",
              "  </div>\n",
              "  "
            ]
          },
          "metadata": {},
          "execution_count": 42
        }
      ]
    },
    {
      "cell_type": "code",
      "source": [
        "y_train_insurance[:10]"
      ],
      "metadata": {
        "colab": {
          "base_uri": "https://localhost:8080/"
        },
        "id": "_NkV9oEqKVkv",
        "outputId": "0c4f43c9-57d4-4219-f581-5f532f2dab61"
      },
      "execution_count": 43,
      "outputs": [
        {
          "output_type": "execute_result",
          "data": {
            "text/plain": [
              "604     17468.98390\n",
              "385      1261.85900\n",
              "725     40932.42950\n",
              "171      8116.68000\n",
              "159     19749.38338\n",
              "310      8444.47400\n",
              "462     15230.32405\n",
              "1138     3704.35450\n",
              "269      9282.48060\n",
              "815      1877.92940\n",
              "Name: charges, dtype: float64"
            ]
          },
          "metadata": {},
          "execution_count": 43
        }
      ]
    },
    {
      "cell_type": "markdown",
      "source": [
        "## Preprocessing"
      ],
      "metadata": {
        "id": "T_4yJRtNJAmU"
      }
    },
    {
      "cell_type": "code",
      "source": [
        "# Scale data\n",
        "Xscaler = StandardScaler()\n",
        "X_train_insurance = Xscaler.fit_transform(X_train_insurance)\n",
        "X_test_insurance = Xscaler.transform(X_test_insurance)\n",
        "Yscaler = StandardScaler()\n",
        "y_train_insurance = Yscaler.fit_transform(y_train_insurance.values.reshape(-1, 1)).reshape(-1)\n",
        "y_test_insurance = Yscaler.transform(y_test_insurance.values.reshape(-1, 1)).reshape(-1)"
      ],
      "metadata": {
        "id": "IY-3BYIxIyfG"
      },
      "execution_count": 44,
      "outputs": []
    },
    {
      "cell_type": "code",
      "source": [
        "X_train_insurance[:10]"
      ],
      "metadata": {
        "colab": {
          "base_uri": "https://localhost:8080/"
        },
        "id": "VQdjehs2KXe1",
        "outputId": "865f800d-fef5-4a9a-e756-a28da286177d"
      },
      "execution_count": 45,
      "outputs": [
        {
          "output_type": "execute_result",
          "data": {
            "text/plain": [
              "array([[-1.4305391 , -0.39101844, -0.8870995 ,  1.87082869, -1.02817453,\n",
              "        -0.47656568],\n",
              "       [-1.4305391 ,  0.60389027, -0.8870995 , -0.53452248,  0.97259753,\n",
              "         1.33303058],\n",
              "       [-0.65140079,  1.36354963,  1.60387589,  1.87082869, -1.02817453,\n",
              "         0.42823245],\n",
              "       [ 0.69438356, -0.06591691, -0.8870995 , -0.53452248,  0.97259753,\n",
              "         1.33303058],\n",
              "       [ 0.76521431, -0.46943489,  1.60387589, -0.53452248, -1.02817453,\n",
              "         0.42823245],\n",
              "       [ 0.76521431, -0.67037705, -0.8870995 , -0.53452248,  0.97259753,\n",
              "         1.33303058],\n",
              "       [ 1.61518338,  1.20753357,  0.77355076, -0.53452248, -1.02817453,\n",
              "        -1.38136381],\n",
              "       [-0.43890853, -0.07408529, -0.8870995 , -0.53452248,  0.97259753,\n",
              "         0.42823245],\n",
              "       [ 0.69438356, -0.79453643, -0.05677437, -0.53452248,  0.97259753,\n",
              "        -1.38136381],\n",
              "       [-1.35970835,  0.12358951, -0.8870995 , -0.53452248, -1.02817453,\n",
              "         0.42823245]])"
            ]
          },
          "metadata": {},
          "execution_count": 45
        }
      ]
    },
    {
      "cell_type": "code",
      "source": [
        "y_train_insurance[:10]"
      ],
      "metadata": {
        "colab": {
          "base_uri": "https://localhost:8080/"
        },
        "id": "seMULjQLKZuG",
        "outputId": "91772337-c478-478b-d835-6cd1776129aa"
      },
      "execution_count": 46,
      "outputs": [
        {
          "output_type": "execute_result",
          "data": {
            "text/plain": [
              "array([ 0.30484839, -0.99663034,  2.18903052, -0.4461685 ,  0.48797102,\n",
              "       -0.4198457 ,  0.12507756, -0.80049093, -0.35255136, -0.94715811])"
            ]
          },
          "metadata": {},
          "execution_count": 46
        }
      ]
    },
    {
      "cell_type": "markdown",
      "source": [
        "## Gradient Descent"
      ],
      "metadata": {
        "id": "NK0GbxzI99wo"
      }
    },
    {
      "cell_type": "code",
      "source": [
        "linear_insurance = LinearRegression_GD()\n",
        "cost = linear_insurance.fit(X_train_insurance, y_train_insurance)\n",
        "linear_insurance.visualize_cost(X_train_insurance, y_train_insurance)\n",
        "print(cost)"
      ],
      "metadata": {
        "colab": {
          "base_uri": "https://localhost:8080/",
          "height": 332
        },
        "id": "OMgm_hE3njYI",
        "outputId": "42429eba-216c-44ce-c5b9-8afb9d7381c5"
      },
      "execution_count": 47,
      "outputs": [
        {
          "output_type": "display_data",
          "data": {
            "text/plain": [
              "<Figure size 432x288 with 1 Axes>"
            ],
            "image/png": "[encoded data removed]"
          },
          "metadata": {
            "needs_background": "light"
          }
        },
        {
          "output_type": "stream",
          "name": "stdout",
          "text": [
            "[468.0, 252.8752577257847, 170.10591267400707, 137.79129146721, 124.99365170997376, 119.85568807791141, 117.76632876743258, 116.90660748816305, 116.54904864132098, 116.39890919032294, 116.33532873977866, 116.3082027140369, 116.29655412367784, 116.29152352501238, 116.28934027096871, 116.28838868165656, 116.28797237070904, 116.28778964179149, 116.28770920631794, 116.28767370897172, 116.28765800778379, 116.28765104860696, 116.28764795838812, 116.28764658384549, 116.28764597148302, 116.28764569827442, 116.28764557621301, 116.28764552160814, 116.28764549714964, 116.28764548618089, 116.28764548125596, 116.28764547904211, 116.28764547804577, 116.28764547759685, 116.28764547739435, 116.2876454773029, 116.28764547726155, 116.28764547724283, 116.28764547723435, 116.2876454772305, 116.28764547722875, 116.28764547722795, 116.2876454772276, 116.28764547722741, 116.28764547722736, 116.28764547722733, 116.2876454772273, 116.28764547722729, 116.28764547722729, 116.28764547722727, 116.2876454772273, 116.28764547722729, 116.28764547722727, 116.2876454772273, 116.28764547722727, 116.28764547722727, 116.28764547722729, 116.28764547722729, 116.28764547722729, 116.28764547722727, 116.28764547722729, 116.2876454772273, 116.2876454772273, 116.2876454772273, 116.28764547722729, 116.28764547722729, 116.28764547722729, 116.28764547722729, 116.28764547722729, 116.28764547722729, 116.2876454772273, 116.28764547722727, 116.28764547722729, 116.28764547722729, 116.28764547722729, 116.28764547722729, 116.2876454772273, 116.28764547722729, 116.28764547722729, 116.28764547722729, 116.28764547722729, 116.28764547722729, 116.28764547722729, 116.2876454772273, 116.2876454772273, 116.28764547722729, 116.28764547722727, 116.28764547722727, 116.28764547722727, 116.28764547722727, 116.28764547722729, 116.2876454772273, 116.28764547722727, 116.2876454772273, 116.2876454772273, 116.2876454772273, 116.2876454772273, 116.2876454772273, 116.2876454772273, 116.2876454772273, 116.2876454772273, 116.2876454772273, 116.2876454772273, 116.2876454772273, 116.2876454772273, 116.2876454772273, 116.2876454772273, 116.2876454772273, 116.2876454772273, 116.2876454772273, 116.2876454772273, 116.2876454772273, 116.2876454772273, 116.2876454772273, 116.2876454772273, 116.2876454772273, 116.2876454772273, 116.2876454772273, 116.2876454772273, 116.2876454772273, 116.2876454772273, 116.2876454772273, 116.2876454772273, 116.2876454772273, 116.2876454772273, 116.2876454772273, 116.2876454772273, 116.2876454772273, 116.2876454772273, 116.2876454772273, 116.2876454772273, 116.2876454772273, 116.2876454772273, 116.2876454772273, 116.2876454772273, 116.2876454772273, 116.2876454772273, 116.2876454772273, 116.2876454772273, 116.2876454772273, 116.2876454772273, 116.2876454772273, 116.2876454772273, 116.2876454772273, 116.2876454772273, 116.2876454772273, 116.2876454772273, 116.2876454772273, 116.2876454772273, 116.2876454772273, 116.2876454772273, 116.2876454772273, 116.2876454772273, 116.2876454772273, 116.2876454772273, 116.2876454772273, 116.2876454772273, 116.2876454772273, 116.2876454772273, 116.2876454772273, 116.2876454772273, 116.2876454772273, 116.2876454772273, 116.2876454772273, 116.2876454772273, 116.2876454772273, 116.2876454772273, 116.2876454772273, 116.2876454772273, 116.2876454772273, 116.2876454772273, 116.2876454772273, 116.2876454772273, 116.2876454772273, 116.2876454772273, 116.2876454772273, 116.2876454772273, 116.2876454772273, 116.2876454772273, 116.2876454772273, 116.2876454772273, 116.2876454772273, 116.2876454772273, 116.2876454772273, 116.2876454772273, 116.2876454772273, 116.2876454772273, 116.2876454772273, 116.2876454772273, 116.2876454772273, 116.2876454772273, 116.2876454772273, 116.2876454772273, 116.2876454772273, 116.2876454772273, 116.2876454772273, 116.2876454772273, 116.2876454772273, 116.2876454772273, 116.2876454772273]\n"
          ]
        }
      ]
    },
    {
      "cell_type": "code",
      "source": [
        "# R2 score trên tập train\n",
        "linear_insurance.R2_score(X_train_insurance, y_train_insurance)"
      ],
      "metadata": {
        "colab": {
          "base_uri": "https://localhost:8080/"
        },
        "id": "ycxBMWYe-E6U",
        "outputId": "043709e3-e774-4eaa-b846-382d75a526b5"
      },
      "execution_count": 48,
      "outputs": [
        {
          "output_type": "execute_result",
          "data": {
            "text/plain": [
              "0.7515221250486597"
            ]
          },
          "metadata": {},
          "execution_count": 48
        }
      ]
    },
    {
      "cell_type": "code",
      "source": [
        "# R2 score trên tập test\n",
        "linear_insurance.R2_score(X_test_insurance, y_test_insurance)"
      ],
      "metadata": {
        "colab": {
          "base_uri": "https://localhost:8080/"
        },
        "id": "5lvdo9a8Bewn",
        "outputId": "4b36ea09-eb42-4b38-af81-10bf785def74"
      },
      "execution_count": 49,
      "outputs": [
        {
          "output_type": "execute_result",
          "data": {
            "text/plain": [
              "0.7440063099104344"
            ]
          },
          "metadata": {},
          "execution_count": 49
        }
      ]
    },
    {
      "cell_type": "markdown",
      "source": [
        "## Normal Equation"
      ],
      "metadata": {
        "id": "A14UQSoa-M4G"
      }
    },
    {
      "cell_type": "markdown",
      "source": [
        "### From scratch"
      ],
      "metadata": {
        "id": "cZB85Umc-PEx"
      }
    },
    {
      "cell_type": "code",
      "source": [
        "weight_best = get_param_normal_equation(X_train_insurance, y_train_insurance)\n",
        "prediction = np.dot(pre_normal_equa(X_test_insurance), weight_best)\n",
        "print(r2_score(y_test_insurance, prediction))"
      ],
      "metadata": {
        "colab": {
          "base_uri": "https://localhost:8080/"
        },
        "id": "yQRD9YOwkPYF",
        "outputId": "62db37f6-23b9-4d0e-aadf-ac710165da60"
      },
      "execution_count": 50,
      "outputs": [
        {
          "output_type": "stream",
          "name": "stdout",
          "text": [
            "0.7440063099104344\n"
          ]
        }
      ]
    },
    {
      "cell_type": "markdown",
      "source": [
        "### By sklearn"
      ],
      "metadata": {
        "id": "e9_G7Vpt-VII"
      }
    },
    {
      "cell_type": "code",
      "source": [
        "LR_insurance = LinearRegression()\n",
        "LR_insurance.fit(X_train_insurance, y_train_insurance)\n",
        "y_pred = LR_insurance.predict(X_test_insurance)\n",
        "print(r2_score(y_test_insurance, y_pred))"
      ],
      "metadata": {
        "colab": {
          "base_uri": "https://localhost:8080/"
        },
        "id": "NWHCFBFL-UoO",
        "outputId": "5442e54d-ad05-440b-d114-c397ba7e7b34"
      },
      "execution_count": 51,
      "outputs": [
        {
          "output_type": "stream",
          "name": "stdout",
          "text": [
            "0.7440063099104344\n"
          ]
        }
      ]
    },
    {
      "cell_type": "markdown",
      "source": [
        "# Tesla Stock Dataset"
      ],
      "metadata": {
        "id": "ymYJad2ch5Yt"
      }
    },
    {
      "cell_type": "markdown",
      "source": [
        "📈📈 **Dataset Information (tesla_stock.csv)** 📈📈\n",
        "- Open: The opening price of the stock\n",
        "- High: The high price of that day\n",
        "- Low: The low price of that day\n",
        "- Close: The closed price of that day\n",
        "- Volume: The amount of stocks traded during that day"
      ],
      "metadata": {
        "id": "vLkcaH7Hpyhv"
      }
    },
    {
      "cell_type": "markdown",
      "source": [
        "📚📚 **Problem Requirement** 📚📚\n",
        "\n",
        "Use all remaining attributes to predict the closing price of tesla stock ('**Close**')\n"
      ],
      "metadata": {
        "id": "k9q59HmEpyhv"
      }
    },
    {
      "cell_type": "markdown",
      "source": [
        "**Note**: Try to make the Gradient Descent achieving the comparable performance to the Normal Equation model. ✌✌\n",
        "\n",
        "**Hint**💡: Apply (suitable) techniques in the Data Preprocessing tutorial file."
      ],
      "metadata": {
        "id": "jcQmt-VJpyhv"
      }
    },
    {
      "cell_type": "code",
      "source": [
        "!gdown --id 1GP8GjzCEV2HyqjRzz4E06gOUzfx8a86l"
      ],
      "metadata": {
        "id": "0yYAVZJnpyNK",
        "colab": {
          "base_uri": "https://localhost:8080/"
        },
        "outputId": "952a681e-e94b-4d51-c968-59c47d46fb75"
      },
      "execution_count": 52,
      "outputs": [
        {
          "output_type": "stream",
          "name": "stdout",
          "text": [
            "/usr/local/lib/python3.7/dist-packages/gdown/cli.py:131: FutureWarning: Option `--id` was deprecated in version 4.3.1 and will be removed in 5.0. You don't need to pass it anymore to use a file ID.\n",
            "  category=FutureWarning,\n",
            "Downloading...\n",
            "From: https://drive.google.com/uc?id=1GP8GjzCEV2HyqjRzz4E06gOUzfx8a86l\n",
            "To: /content/tesla_stock.csv\n",
            "100% 111k/111k [00:00<00:00, 28.8MB/s]\n"
          ]
        }
      ]
    },
    {
      "cell_type": "code",
      "source": [
        "tesla_stock_data = pd.read_csv('/content/tesla_stock.csv')"
      ],
      "metadata": {
        "id": "MwhGkRAqxsz-"
      },
      "execution_count": 53,
      "outputs": []
    },
    {
      "cell_type": "code",
      "source": [
        "tesla_stock_data.isna().sum()"
      ],
      "metadata": {
        "colab": {
          "base_uri": "https://localhost:8080/"
        },
        "id": "Fg5LzM5W1n62",
        "outputId": "5dca751c-5653-4f88-cd95-b8c19aa91c25"
      },
      "execution_count": 54,
      "outputs": [
        {
          "output_type": "execute_result",
          "data": {
            "text/plain": [
              "Open      0\n",
              "High      0\n",
              "Low       0\n",
              "Close     0\n",
              "Volume    0\n",
              "dtype: int64"
            ]
          },
          "metadata": {},
          "execution_count": 54
        }
      ]
    },
    {
      "cell_type": "code",
      "source": [
        "tesla_stock_data.head(10)"
      ],
      "metadata": {
        "colab": {
          "base_uri": "https://localhost:8080/",
          "height": 363
        },
        "id": "wBkjUjfo-nhZ",
        "outputId": "787ad6ba-3faa-4462-a816-dace4fa71edb"
      },
      "execution_count": 55,
      "outputs": [
        {
          "output_type": "execute_result",
          "data": {
            "text/plain": [
              "        Open       High        Low      Close    Volume\n",
              "0  19.000000  25.000000  17.540001  23.889999  18766300\n",
              "1  25.790001  30.420000  23.299999  23.830000  17187100\n",
              "2  25.000000  25.920000  20.270000  21.959999   8218800\n",
              "3  23.000000  23.100000  18.709999  19.200001   5139800\n",
              "4  20.000000  20.000000  15.830000  16.110001   6866900\n",
              "5  16.400000  16.629999  14.980000  15.800000   6921700\n",
              "6  16.139999  17.520000  15.570000  17.459999   7711400\n",
              "7  17.580000  17.900000  16.549999  17.400000   4050600\n",
              "8  17.950001  18.070000  17.000000  17.049999   2202500\n",
              "9  17.389999  18.639999  16.900000  18.139999   2680100"
            ],
            "text/html": [
              "\n",
              "  <div id=\"df-9d9fe211-3c94-4145-a176-1df469bbee5c\">\n",
              "    <div class=\"colab-df-container\">\n",
              "      <div>\n",
              "<style scoped>\n",
              "    .dataframe tbody tr th:only-of-type {\n",
              "        vertical-align: middle;\n",
              "    }\n",
              "\n",
              "    .dataframe tbody tr th {\n",
              "        vertical-align: top;\n",
              "    }\n",
              "\n",
              "    .dataframe thead th {\n",
              "        text-align: right;\n",
              "    }\n",
              "</style>\n",
              "<table border=\"1\" class=\"dataframe\">\n",
              "  <thead>\n",
              "    <tr style=\"text-align: right;\">\n",
              "      <th></th>\n",
              "      <th>Open</th>\n",
              "      <th>High</th>\n",
              "      <th>Low</th>\n",
              "      <th>Close</th>\n",
              "      <th>Volume</th>\n",
              "    </tr>\n",
              "  </thead>\n",
              "  <tbody>\n",
              "    <tr>\n",
              "      <th>0</th>\n",
              "      <td>19.000000</td>\n",
              "      <td>25.000000</td>\n",
              "      <td>17.540001</td>\n",
              "      <td>23.889999</td>\n",
              "      <td>18766300</td>\n",
              "    </tr>\n",
              "    <tr>\n",
              "      <th>1</th>\n",
              "      <td>25.790001</td>\n",
              "      <td>30.420000</td>\n",
              "      <td>23.299999</td>\n",
              "      <td>23.830000</td>\n",
              "      <td>17187100</td>\n",
              "    </tr>\n",
              "    <tr>\n",
              "      <th>2</th>\n",
              "      <td>25.000000</td>\n",
              "      <td>25.920000</td>\n",
              "      <td>20.270000</td>\n",
              "      <td>21.959999</td>\n",
              "      <td>8218800</td>\n",
              "    </tr>\n",
              "    <tr>\n",
              "      <th>3</th>\n",
              "      <td>23.000000</td>\n",
              "      <td>23.100000</td>\n",
              "      <td>18.709999</td>\n",
              "      <td>19.200001</td>\n",
              "      <td>5139800</td>\n",
              "    </tr>\n",
              "    <tr>\n",
              "      <th>4</th>\n",
              "      <td>20.000000</td>\n",
              "      <td>20.000000</td>\n",
              "      <td>15.830000</td>\n",
              "      <td>16.110001</td>\n",
              "      <td>6866900</td>\n",
              "    </tr>\n",
              "    <tr>\n",
              "      <th>5</th>\n",
              "      <td>16.400000</td>\n",
              "      <td>16.629999</td>\n",
              "      <td>14.980000</td>\n",
              "      <td>15.800000</td>\n",
              "      <td>6921700</td>\n",
              "    </tr>\n",
              "    <tr>\n",
              "      <th>6</th>\n",
              "      <td>16.139999</td>\n",
              "      <td>17.520000</td>\n",
              "      <td>15.570000</td>\n",
              "      <td>17.459999</td>\n",
              "      <td>7711400</td>\n",
              "    </tr>\n",
              "    <tr>\n",
              "      <th>7</th>\n",
              "      <td>17.580000</td>\n",
              "      <td>17.900000</td>\n",
              "      <td>16.549999</td>\n",
              "      <td>17.400000</td>\n",
              "      <td>4050600</td>\n",
              "    </tr>\n",
              "    <tr>\n",
              "      <th>8</th>\n",
              "      <td>17.950001</td>\n",
              "      <td>18.070000</td>\n",
              "      <td>17.000000</td>\n",
              "      <td>17.049999</td>\n",
              "      <td>2202500</td>\n",
              "    </tr>\n",
              "    <tr>\n",
              "      <th>9</th>\n",
              "      <td>17.389999</td>\n",
              "      <td>18.639999</td>\n",
              "      <td>16.900000</td>\n",
              "      <td>18.139999</td>\n",
              "      <td>2680100</td>\n",
              "    </tr>\n",
              "  </tbody>\n",
              "</table>\n",
              "</div>\n",
              "      <button class=\"colab-df-convert\" onclick=\"convertToInteractive('df-9d9fe211-3c94-4145-a176-1df469bbee5c')\"\n",
              "              title=\"Convert this dataframe to an interactive table.\"\n",
              "              style=\"display:none;\">\n",
              "        \n",
              "  <svg xmlns=\"http://www.w3.org/2000/svg\" height=\"24px\"viewBox=\"0 0 24 24\"\n",
              "       width=\"24px\">\n",
              "    <path d=\"M0 0h24v24H0V0z\" fill=\"none\"/>\n",
              "    <path d=\"M18.56 5.44l.94 2.06.94-2.06 2.06-.94-2.06-.94-.94-2.06-.94 2.06-2.06.94zm-11 1L8.5 8.5l.94-2.06 2.06-.94-2.06-.94L8.5 2.5l-.94 2.06-2.06.94zm10 10l.94 2.06.94-2.06 2.06-.94-2.06-.94-.94-2.06-.94 2.06-2.06.94z\"/><path d=\"M17.41 7.96l-1.37-1.37c-.4-.4-.92-.59-1.43-.59-.52 0-1.04.2-1.43.59L10.3 9.45l-7.72 7.72c-.78.78-.78 2.05 0 2.83L4 21.41c.39.39.9.59 1.41.59.51 0 1.02-.2 1.41-.59l7.78-7.78 2.81-2.81c.8-.78.8-2.07 0-2.86zM5.41 20L4 18.59l7.72-7.72 1.47 1.35L5.41 20z\"/>\n",
              "  </svg>\n",
              "      </button>\n",
              "      \n",
              "  <style>\n",
              "    .colab-df-container {\n",
              "      display:flex;\n",
              "      flex-wrap:wrap;\n",
              "      gap: 12px;\n",
              "    }\n",
              "\n",
              "    .colab-df-convert {\n",
              "      background-color: #E8F0FE;\n",
              "      border: none;\n",
              "      border-radius: 50%;\n",
              "      cursor: pointer;\n",
              "      display: none;\n",
              "      fill: #1967D2;\n",
              "      height: 32px;\n",
              "      padding: 0 0 0 0;\n",
              "      width: 32px;\n",
              "    }\n",
              "\n",
              "    .colab-df-convert:hover {\n",
              "      background-color: #E2EBFA;\n",
              "      box-shadow: 0px 1px 2px rgba(60, 64, 67, 0.3), 0px 1px 3px 1px rgba(60, 64, 67, 0.15);\n",
              "      fill: #174EA6;\n",
              "    }\n",
              "\n",
              "    [theme=dark] .colab-df-convert {\n",
              "      background-color: #3B4455;\n",
              "      fill: #D2E3FC;\n",
              "    }\n",
              "\n",
              "    [theme=dark] .colab-df-convert:hover {\n",
              "      background-color: #434B5C;\n",
              "      box-shadow: 0px 1px 3px 1px rgba(0, 0, 0, 0.15);\n",
              "      filter: drop-shadow(0px 1px 2px rgba(0, 0, 0, 0.3));\n",
              "      fill: #FFFFFF;\n",
              "    }\n",
              "  </style>\n",
              "\n",
              "      <script>\n",
              "        const buttonEl =\n",
              "          document.querySelector('#df-9d9fe211-3c94-4145-a176-1df469bbee5c button.colab-df-convert');\n",
              "        buttonEl.style.display =\n",
              "          google.colab.kernel.accessAllowed ? 'block' : 'none';\n",
              "\n",
              "        async function convertToInteractive(key) {\n",
              "          const element = document.querySelector('#df-9d9fe211-3c94-4145-a176-1df469bbee5c');\n",
              "          const dataTable =\n",
              "            await google.colab.kernel.invokeFunction('convertToInteractive',\n",
              "                                                     [key], {});\n",
              "          if (!dataTable) return;\n",
              "\n",
              "          const docLinkHtml = 'Like what you see? Visit the ' +\n",
              "            '<a target=\"_blank\" href=https://colab.research.google.com/notebooks/data_table.ipynb>data table notebook</a>'\n",
              "            + ' to learn more about interactive tables.';\n",
              "          element.innerHTML = '';\n",
              "          dataTable['output_type'] = 'display_data';\n",
              "          await google.colab.output.renderOutput(dataTable, element);\n",
              "          const docLink = document.createElement('div');\n",
              "          docLink.innerHTML = docLinkHtml;\n",
              "          element.appendChild(docLink);\n",
              "        }\n",
              "      </script>\n",
              "    </div>\n",
              "  </div>\n",
              "  "
            ]
          },
          "metadata": {},
          "execution_count": 55
        }
      ]
    },
    {
      "cell_type": "code",
      "source": [
        "features_tesla_stock = tesla_stock_data.drop(columns = ['Close'])\n",
        "features_tesla_stock = features_tesla_stock.columns"
      ],
      "metadata": {
        "id": "2RYANUfoHpu-"
      },
      "execution_count": 56,
      "outputs": []
    },
    {
      "cell_type": "code",
      "source": [
        "X_tesla_stock = tesla_stock_data.drop(columns = ['Close'])\n",
        "y_tesla_stock = tesla_stock_data['Close']"
      ],
      "metadata": {
        "id": "xnsDnyob0Mtb"
      },
      "execution_count": 57,
      "outputs": []
    },
    {
      "cell_type": "code",
      "source": [
        "plt.figure(figsize=(24, 7))\n",
        "\n",
        "for i in range(4):\n",
        "  plt.subplot(1, 4, i + 1)\n",
        "  plt.scatter(tesla_stock_data[features_tesla_stock[i]], y_tesla_stock)\n",
        "  plt.xlabel(features_tesla_stock[i])\n",
        "  plt.ylabel(\"Close\")\n",
        "\n",
        "plt.show()"
      ],
      "metadata": {
        "colab": {
          "base_uri": "https://localhost:8080/",
          "height": 393
        },
        "id": "OauLF7WGB-Wy",
        "outputId": "b4c2af15-ec2c-4f41-f4e7-3c8e883a3fbd"
      },
      "execution_count": 58,
      "outputs": [
        {
          "output_type": "display_data",
          "data": {
            "text/plain": [
              "<Figure size 1728x504 with 4 Axes>"
            ],
            "image/png": "[encoded data removed]"
          },
          "metadata": {
            "needs_background": "light"
          }
        }
      ]
    },
    {
      "cell_type": "code",
      "source": [
        "X_train_tesla_stock, X_test_tesla_stock, y_train_tesla_stock, y_test_tesla_stock = train_test_split(X_tesla_stock, y_tesla_stock, test_size=0.3, random_state=21520064)"
      ],
      "metadata": {
        "id": "RVtMEab90-zp"
      },
      "execution_count": 59,
      "outputs": []
    },
    {
      "cell_type": "code",
      "source": [
        "X_train_tesla_stock[:10]"
      ],
      "metadata": {
        "colab": {
          "base_uri": "https://localhost:8080/",
          "height": 363
        },
        "id": "VaTtidaFKc-j",
        "outputId": "443fea87-946c-4af5-b301-a222446aafcd"
      },
      "execution_count": 60,
      "outputs": [
        {
          "output_type": "execute_result",
          "data": {
            "text/plain": [
              "            Open        High         Low   Volume\n",
              "165    22.180000   22.500000   21.110001  1605600\n",
              "228    27.020000   27.500000   26.600000   613700\n",
              "1713  302.459991  306.619995  302.109985  3898000\n",
              "286    26.129999   26.540001   25.830000   537700\n",
              "1455  251.000000  258.989990  245.300003  9161700\n",
              "1427  194.250000  195.949997  182.699997  6712200\n",
              "1161  215.380005  217.929993  211.990005  3472400\n",
              "102    31.570000   33.450001   31.500000  1529700\n",
              "1732  317.589996  320.059998  315.140015  4152500\n",
              "140    25.480000   25.639999   24.750000  1621700"
            ],
            "text/html": [
              "\n",
              "  <div id=\"df-02f6a44a-73d7-4454-8a51-b0fb718f8fef\">\n",
              "    <div class=\"colab-df-container\">\n",
              "      <div>\n",
              "<style scoped>\n",
              "    .dataframe tbody tr th:only-of-type {\n",
              "        vertical-align: middle;\n",
              "    }\n",
              "\n",
              "    .dataframe tbody tr th {\n",
              "        vertical-align: top;\n",
              "    }\n",
              "\n",
              "    .dataframe thead th {\n",
              "        text-align: right;\n",
              "    }\n",
              "</style>\n",
              "<table border=\"1\" class=\"dataframe\">\n",
              "  <thead>\n",
              "    <tr style=\"text-align: right;\">\n",
              "      <th></th>\n",
              "      <th>Open</th>\n",
              "      <th>High</th>\n",
              "      <th>Low</th>\n",
              "      <th>Volume</th>\n",
              "    </tr>\n",
              "  </thead>\n",
              "  <tbody>\n",
              "    <tr>\n",
              "      <th>165</th>\n",
              "      <td>22.180000</td>\n",
              "      <td>22.500000</td>\n",
              "      <td>21.110001</td>\n",
              "      <td>1605600</td>\n",
              "    </tr>\n",
              "    <tr>\n",
              "      <th>228</th>\n",
              "      <td>27.020000</td>\n",
              "      <td>27.500000</td>\n",
              "      <td>26.600000</td>\n",
              "      <td>613700</td>\n",
              "    </tr>\n",
              "    <tr>\n",
              "      <th>1713</th>\n",
              "      <td>302.459991</td>\n",
              "      <td>306.619995</td>\n",
              "      <td>302.109985</td>\n",
              "      <td>3898000</td>\n",
              "    </tr>\n",
              "    <tr>\n",
              "      <th>286</th>\n",
              "      <td>26.129999</td>\n",
              "      <td>26.540001</td>\n",
              "      <td>25.830000</td>\n",
              "      <td>537700</td>\n",
              "    </tr>\n",
              "    <tr>\n",
              "      <th>1455</th>\n",
              "      <td>251.000000</td>\n",
              "      <td>258.989990</td>\n",
              "      <td>245.300003</td>\n",
              "      <td>9161700</td>\n",
              "    </tr>\n",
              "    <tr>\n",
              "      <th>1427</th>\n",
              "      <td>194.250000</td>\n",
              "      <td>195.949997</td>\n",
              "      <td>182.699997</td>\n",
              "      <td>6712200</td>\n",
              "    </tr>\n",
              "    <tr>\n",
              "      <th>1161</th>\n",
              "      <td>215.380005</td>\n",
              "      <td>217.929993</td>\n",
              "      <td>211.990005</td>\n",
              "      <td>3472400</td>\n",
              "    </tr>\n",
              "    <tr>\n",
              "      <th>102</th>\n",
              "      <td>31.570000</td>\n",
              "      <td>33.450001</td>\n",
              "      <td>31.500000</td>\n",
              "      <td>1529700</td>\n",
              "    </tr>\n",
              "    <tr>\n",
              "      <th>1732</th>\n",
              "      <td>317.589996</td>\n",
              "      <td>320.059998</td>\n",
              "      <td>315.140015</td>\n",
              "      <td>4152500</td>\n",
              "    </tr>\n",
              "    <tr>\n",
              "      <th>140</th>\n",
              "      <td>25.480000</td>\n",
              "      <td>25.639999</td>\n",
              "      <td>24.750000</td>\n",
              "      <td>1621700</td>\n",
              "    </tr>\n",
              "  </tbody>\n",
              "</table>\n",
              "</div>\n",
              "      <button class=\"colab-df-convert\" onclick=\"convertToInteractive('df-02f6a44a-73d7-4454-8a51-b0fb718f8fef')\"\n",
              "              title=\"Convert this dataframe to an interactive table.\"\n",
              "              style=\"display:none;\">\n",
              "        \n",
              "  <svg xmlns=\"http://www.w3.org/2000/svg\" height=\"24px\"viewBox=\"0 0 24 24\"\n",
              "       width=\"24px\">\n",
              "    <path d=\"M0 0h24v24H0V0z\" fill=\"none\"/>\n",
              "    <path d=\"M18.56 5.44l.94 2.06.94-2.06 2.06-.94-2.06-.94-.94-2.06-.94 2.06-2.06.94zm-11 1L8.5 8.5l.94-2.06 2.06-.94-2.06-.94L8.5 2.5l-.94 2.06-2.06.94zm10 10l.94 2.06.94-2.06 2.06-.94-2.06-.94-.94-2.06-.94 2.06-2.06.94z\"/><path d=\"M17.41 7.96l-1.37-1.37c-.4-.4-.92-.59-1.43-.59-.52 0-1.04.2-1.43.59L10.3 9.45l-7.72 7.72c-.78.78-.78 2.05 0 2.83L4 21.41c.39.39.9.59 1.41.59.51 0 1.02-.2 1.41-.59l7.78-7.78 2.81-2.81c.8-.78.8-2.07 0-2.86zM5.41 20L4 18.59l7.72-7.72 1.47 1.35L5.41 20z\"/>\n",
              "  </svg>\n",
              "      </button>\n",
              "      \n",
              "  <style>\n",
              "    .colab-df-container {\n",
              "      display:flex;\n",
              "      flex-wrap:wrap;\n",
              "      gap: 12px;\n",
              "    }\n",
              "\n",
              "    .colab-df-convert {\n",
              "      background-color: #E8F0FE;\n",
              "      border: none;\n",
              "      border-radius: 50%;\n",
              "      cursor: pointer;\n",
              "      display: none;\n",
              "      fill: #1967D2;\n",
              "      height: 32px;\n",
              "      padding: 0 0 0 0;\n",
              "      width: 32px;\n",
              "    }\n",
              "\n",
              "    .colab-df-convert:hover {\n",
              "      background-color: #E2EBFA;\n",
              "      box-shadow: 0px 1px 2px rgba(60, 64, 67, 0.3), 0px 1px 3px 1px rgba(60, 64, 67, 0.15);\n",
              "      fill: #174EA6;\n",
              "    }\n",
              "\n",
              "    [theme=dark] .colab-df-convert {\n",
              "      background-color: #3B4455;\n",
              "      fill: #D2E3FC;\n",
              "    }\n",
              "\n",
              "    [theme=dark] .colab-df-convert:hover {\n",
              "      background-color: #434B5C;\n",
              "      box-shadow: 0px 1px 3px 1px rgba(0, 0, 0, 0.15);\n",
              "      filter: drop-shadow(0px 1px 2px rgba(0, 0, 0, 0.3));\n",
              "      fill: #FFFFFF;\n",
              "    }\n",
              "  </style>\n",
              "\n",
              "      <script>\n",
              "        const buttonEl =\n",
              "          document.querySelector('#df-02f6a44a-73d7-4454-8a51-b0fb718f8fef button.colab-df-convert');\n",
              "        buttonEl.style.display =\n",
              "          google.colab.kernel.accessAllowed ? 'block' : 'none';\n",
              "\n",
              "        async function convertToInteractive(key) {\n",
              "          const element = document.querySelector('#df-02f6a44a-73d7-4454-8a51-b0fb718f8fef');\n",
              "          const dataTable =\n",
              "            await google.colab.kernel.invokeFunction('convertToInteractive',\n",
              "                                                     [key], {});\n",
              "          if (!dataTable) return;\n",
              "\n",
              "          const docLinkHtml = 'Like what you see? Visit the ' +\n",
              "            '<a target=\"_blank\" href=https://colab.research.google.com/notebooks/data_table.ipynb>data table notebook</a>'\n",
              "            + ' to learn more about interactive tables.';\n",
              "          element.innerHTML = '';\n",
              "          dataTable['output_type'] = 'display_data';\n",
              "          await google.colab.output.renderOutput(dataTable, element);\n",
              "          const docLink = document.createElement('div');\n",
              "          docLink.innerHTML = docLinkHtml;\n",
              "          element.appendChild(docLink);\n",
              "        }\n",
              "      </script>\n",
              "    </div>\n",
              "  </div>\n",
              "  "
            ]
          },
          "metadata": {},
          "execution_count": 60
        }
      ]
    },
    {
      "cell_type": "code",
      "source": [
        "y_train_tesla_stock[:10]"
      ],
      "metadata": {
        "colab": {
          "base_uri": "https://localhost:8080/"
        },
        "id": "EgJ4eCRWKfKy",
        "outputId": "f5298a9f-1f5c-4c4c-8142-13a5b2159d4c"
      },
      "execution_count": 61,
      "outputs": [
        {
          "output_type": "execute_result",
          "data": {
            "text/plain": [
              "165      21.830000\n",
              "228      26.719999\n",
              "1713    305.519989\n",
              "286      26.100000\n",
              "1455    249.919998\n",
              "1427    186.350006\n",
              "1161    217.479996\n",
              "102      33.400002\n",
              "1732    317.010010\n",
              "140      25.639999\n",
              "Name: Close, dtype: float64"
            ]
          },
          "metadata": {},
          "execution_count": 61
        }
      ]
    },
    {
      "cell_type": "markdown",
      "source": [
        "## Preprocessing"
      ],
      "metadata": {
        "id": "UYHPm3OOJRF7"
      }
    },
    {
      "cell_type": "code",
      "source": [
        "# Scale data\n",
        "Xscaler = StandardScaler()\n",
        "X_train_tesla_stock = Xscaler.fit_transform(X_train_tesla_stock)\n",
        "X_test_tesla_stock = Xscaler.transform(X_test_tesla_stock)\n",
        "Yscaler = StandardScaler()\n",
        "y_train_tesla_stock = Yscaler.fit_transform(y_train_tesla_stock.values.reshape(-1, 1)).reshape(-1)\n",
        "y_test_tesla_stock = Yscaler.transform(y_test_tesla_stock.values.reshape(-1, 1)).reshape(-1)"
      ],
      "metadata": {
        "id": "I9XkZ9DVI7T0"
      },
      "execution_count": 62,
      "outputs": []
    },
    {
      "cell_type": "code",
      "source": [
        "X_train_tesla_stock[:10]"
      ],
      "metadata": {
        "colab": {
          "base_uri": "https://localhost:8080/"
        },
        "id": "TNHzftShKhGN",
        "outputId": "04eb84e0-3135-4628-9824-f03cc4b48926"
      },
      "execution_count": 63,
      "outputs": [
        {
          "output_type": "execute_result",
          "data": {
            "text/plain": [
              "array([[-1.37606367, -1.37540432, -1.37877012, -0.78243897],\n",
              "       [-1.33514267, -1.33390839, -1.33158968, -0.9779399 ],\n",
              "       [ 0.9936342 ,  0.98256054,  1.03611258, -0.33061285],\n",
              "       [-1.34266741, -1.3418756 , -1.33820697, -0.99291931],\n",
              "       [ 0.55855273,  0.58727024,  0.5478939 ,  0.70684883],\n",
              "       [ 0.07874554,  0.06408957,  0.00991639,  0.2240587 ],\n",
              "       [ 0.2573945 ,  0.24650566,  0.26163147, -0.41449751],\n",
              "       [-1.29667355, -1.28452822, -1.28947962, -0.79739867],\n",
              "       [ 1.12155465,  1.09410163,  1.14809122, -0.28045156],\n",
              "       [-1.34816299, -1.34934488, -1.34748837, -0.77926571]])"
            ]
          },
          "metadata": {},
          "execution_count": 63
        }
      ]
    },
    {
      "cell_type": "code",
      "source": [
        "y_train_tesla_stock[:10]"
      ],
      "metadata": {
        "colab": {
          "base_uri": "https://localhost:8080/"
        },
        "id": "s4v1Ir51Kix_",
        "outputId": "8928c1ba-beff-4522-c362-6bac9af27bd2"
      },
      "execution_count": 64,
      "outputs": [
        {
          "output_type": "execute_result",
          "data": {
            "text/plain": [
              "array([-1.37492715, -1.33372513,  1.01538055, -1.3389491 ,  0.5469076 ,\n",
              "        0.01128122,  0.27357548, -1.27744093,  1.11219287, -1.34282496])"
            ]
          },
          "metadata": {},
          "execution_count": 64
        }
      ]
    },
    {
      "cell_type": "markdown",
      "source": [
        "## Gradient Descent"
      ],
      "metadata": {
        "id": "C8Gtf2_pBK9W"
      }
    },
    {
      "cell_type": "code",
      "source": [
        "linear_tesla_stock = LinearRegression_GD(eta=8e-5)\n",
        "cost = linear_tesla_stock.fit(X_train_tesla_stock, y_train_tesla_stock)\n",
        "linear_tesla_stock.visualize_cost(X_train_tesla_stock, y_train_tesla_stock)\n",
        "print(cost)"
      ],
      "metadata": {
        "colab": {
          "base_uri": "https://localhost:8080/",
          "height": 332
        },
        "id": "15eQ5X4KpYro",
        "outputId": "a639d17d-c9ca-41e9-95a2-04cd36d85ca4"
      },
      "execution_count": 65,
      "outputs": [
        {
          "output_type": "display_data",
          "data": {
            "text/plain": [
              "<Figure size 432x288 with 1 Axes>"
            ],
            "image/png": "[encoded data removed]"
          },
          "metadata": {
            "needs_background": "light"
          }
        },
        {
          "output_type": "stream",
          "name": "stdout",
          "text": [
            "[845.5, 267.2128839377642, 91.04128446052974, 36.28954794911749, 18.387246869727953, 11.822289026516101, 8.872043061345458, 7.176932995024334, 5.997964585753067, 5.088955682640711, 4.3561560861328905, 3.7550727254304785, 3.258830081499917, 2.848166698448134, 2.508027583978852, 2.2262102795799423, 1.9926854394403053, 1.7991670591915425, 1.638796460243354, 1.5058925024340066, 1.3957482358304256, 1.3044634927487215, 1.2288064962360044, 1.1660992824338963, 1.1141227867464807, 1.071038203359753, 1.0353218232380417, 1.0057110390438886, 0.9811596028566216, 0.9608005509659553, 0.9439154818652076, 0.929909098749436, 0.918288114392505, 0.908643770867956, 0.9006373546765429, 0.8939881939898506, 0.8884637126765442, 0.8838711886626385, 0.8800509245724862, 0.8768705886431919, 0.8742205253753639, 0.8720098697469467, 0.8701633272922344, 0.8686185059439357, 0.8673237050886207, 0.866236083487843, 0.8653201411428116, 0.8645464613055027, 0.8638906680577336, 0.8633325625186404, 0.8628554070709422, 0.8624453322416175, 0.8620908452190197, 0.8617824225901145, 0.8615121728659225, 0.8612735568363334, 0.861061155844699, 0.8608704797706923, 0.860697807917078, 0.8605400571619958, 0.8603946727045577, 0.8602595375321935, 0.8601328974016007, 0.8600132986748965, 0.8598995368081142, 0.859790613666674, 0.8596857021552355, 0.8595841169085535, 0.8594852900047226, 0.8593887508401832, 0.8592941094533254, 0.8592010427057539, 0.8591092828315133, 0.8590186079485118, 0.8589288341959005, 0.858839809218783, 0.8587514067693828, 0.8586635222333454, 0.8585760689226563, 0.8584889750037935, 0.8584021809522799, 0.8583156374434076, 0.8582293036044202, 0.8581431455661901, 0.8580571352630845, 0.8579712494384806, 0.8578854688206985, 0.8577997774401461, 0.857714162063476, 0.8576286117247016, 0.8575431173366677, 0.8574576713690936, 0.8573722675817902, 0.857286900803587, 0.8572015667491524, 0.8571162618671901, 0.8570309832146609, 0.8569457283525486, 0.8568604952594945, 0.8567752822602233, 0.8566900879662449, 0.8566049112267042, 0.8565197510876663, 0.8564346067583684, 0.8563494775832604, 0.8562643630188354, 0.8561792626144282, 0.8560941759963092, 0.8560091028544975, 0.8559240429318389, 0.8558389960149535, 0.8557539619267349, 0.8556689405201319, 0.8555839316730027, 0.8554989352838417, 0.8554139512682479, 0.8553289795559895, 0.8552440200885809, 0.8551590728172653, 0.8550741377013482, 0.8549892147068205, 0.8549043038052073, 0.8548194049726221, 0.8547345181889813, 0.854649643437351, 0.8545647807034074, 0.8544799299749917, 0.8543950912417366, 0.85431026449476, 0.8542254497264122, 0.8541406469300625, 0.8540558560999256, 0.8539710772309166, 0.8538863103185319, 0.853801555358749, 0.8537168123479425, 0.8536320812828196, 0.8535473621603596, 0.8534626549777693, 0.8533779597324445, 0.853293276421935, 0.8532086050439219, 0.8531239455961926, 0.8530392980766228, 0.8529546624831625, 0.8528700388138223, 0.8527854270666638, 0.8527008272397898, 0.8526162393313395, 0.8525316633394797, 0.8524470992624023, 0.8523625470983176, 0.852278006845454, 0.8521934785020518, 0.8521089620663653, 0.8520244575366569, 0.8519399649111961, 0.8518554841882597, 0.8517710153661318, 0.8516865584430978, 0.8516021134174498, 0.8515176802874818, 0.8514332590514911, 0.8513488497077766, 0.8512644522546391, 0.8511800666903826, 0.8510956930133106, 0.8510113312217289, 0.8509269813139437, 0.8508426432882636, 0.8507583171429958, 0.8506740028764497, 0.8505897004869348, 0.8505054099727615, 0.8504211313322405, 0.8503368645636824, 0.8502526096653993, 0.8501683666357029, 0.8500841354729061, 0.8499999161753203, 0.8499157087412601, 0.8498315131690373, 0.8497473294569662, 0.8496631576033602, 0.8495789976065342, 0.849494849464802, 0.8494107131764788, 0.8493265887398791, 0.8492424761533186, 0.8491583754151122, 0.8490742865235761, 0.8489902094770259, 0.8489061442737785, 0.84882209091215, 0.8487380493904566, 0.8486540197070159, 0.848570001860145, 0.8484859958481614, 0.8484020016693823, 0.8483180193221271]\n"
          ]
        }
      ]
    },
    {
      "cell_type": "code",
      "source": [
        "# R2 score tren tap train\n",
        "print(linear_tesla_stock.R2_score(X_train_tesla_stock, y_train_tesla_stock))"
      ],
      "metadata": {
        "colab": {
          "base_uri": "https://localhost:8080/"
        },
        "id": "Gxw_raGHBGlf",
        "outputId": "5e0c0ecc-a587-4d05-d433-a40cc7a29470"
      },
      "execution_count": 66,
      "outputs": [
        {
          "output_type": "stream",
          "name": "stdout",
          "text": [
            "0.9989967663526852\n"
          ]
        }
      ]
    },
    {
      "cell_type": "code",
      "source": [
        "# R2 score tren tap test\n",
        "print(linear_tesla_stock.R2_score(X_test_tesla_stock, y_test_tesla_stock))"
      ],
      "metadata": {
        "colab": {
          "base_uri": "https://localhost:8080/"
        },
        "id": "XFdagToQpkJ3",
        "outputId": "e729c2b8-dfaa-4678-952c-8abb14ba17ef"
      },
      "execution_count": 67,
      "outputs": [
        {
          "output_type": "stream",
          "name": "stdout",
          "text": [
            "0.9991156143970229\n"
          ]
        }
      ]
    },
    {
      "cell_type": "markdown",
      "source": [
        "## Normal Equation"
      ],
      "metadata": {
        "id": "WyzJT4uXByne"
      }
    },
    {
      "cell_type": "markdown",
      "source": [
        "### From scratch"
      ],
      "metadata": {
        "id": "iqLj65LKByne"
      }
    },
    {
      "cell_type": "code",
      "source": [
        "weight_best = get_param_normal_equation(X_train_tesla_stock, y_train_tesla_stock)\n",
        "prediction = np.dot(pre_normal_equa(X_test_tesla_stock), weight_best)\n",
        "print(r2_score(y_test_tesla_stock, prediction))"
      ],
      "metadata": {
        "colab": {
          "base_uri": "https://localhost:8080/"
        },
        "outputId": "601d57cc-bc72-400b-d5f2-5dc85e60ceb6",
        "id": "IyiK8uWRByne"
      },
      "execution_count": 68,
      "outputs": [
        {
          "output_type": "stream",
          "name": "stdout",
          "text": [
            "0.9997050946951881\n"
          ]
        }
      ]
    },
    {
      "cell_type": "markdown",
      "source": [
        "### By sklearn"
      ],
      "metadata": {
        "id": "qZVnMfH8Byne"
      }
    },
    {
      "cell_type": "code",
      "source": [
        "LR_tesla_stock = LinearRegression()\n",
        "LR_tesla_stock.fit(X_train_tesla_stock, y_train_tesla_stock)\n",
        "y_pred = LR_tesla_stock.predict(X_test_tesla_stock)\n",
        "print(r2_score(y_test_tesla_stock, y_pred))"
      ],
      "metadata": {
        "colab": {
          "base_uri": "https://localhost:8080/"
        },
        "id": "eh8wlihKByne",
        "outputId": "a7b6d6ad-279d-457f-a663-032d3088108e"
      },
      "execution_count": 69,
      "outputs": [
        {
          "output_type": "stream",
          "name": "stdout",
          "text": [
            "0.9997050946951882\n"
          ]
        }
      ]
    }
  ]
}